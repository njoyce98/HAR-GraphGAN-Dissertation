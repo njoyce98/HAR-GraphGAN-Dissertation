{
  "nbformat": 4,
  "nbformat_minor": 0,
  "metadata": {
    "accelerator": "GPU",
    "colab": {
      "name": "GCN_testing.ipynb",
      "provenance": [],
      "collapsed_sections": [],
      "machine_shape": "hm",
      "authorship_tag": "ABX9TyMWmc4nObyhuhvEssWdAH//",
      "include_colab_link": true
    },
    "kernelspec": {
      "display_name": "Python 3",
      "name": "python3"
    },
    "language_info": {
      "name": "python"
    }
  },
  "cells": [
    {
      "cell_type": "markdown",
      "metadata": {
        "id": "view-in-github",
        "colab_type": "text"
      },
      "source": [
        "<a href=\"https://colab.research.google.com/github/njoyce98/HAR-GraphGAN-Dissertation/blob/main/GCN_testing.ipynb\" target=\"_parent\"><img src=\"https://colab.research.google.com/assets/colab-badge.svg\" alt=\"Open In Colab\"/></a>"
      ]
    },
    {
      "cell_type": "code",
      "metadata": {
        "colab": {
          "base_uri": "https://localhost:8080/"
        },
        "id": "YNwyztepMotV",
        "outputId": "3989ab8e-1d07-410b-f108-c091ec179444"
      },
      "source": [
        "!pip install spektral"
      ],
      "execution_count": null,
      "outputs": [
        {
          "output_type": "stream",
          "text": [
            "Collecting spektral\n",
            "\u001b[?25l  Downloading https://files.pythonhosted.org/packages/b8/02/5eb4c9e7e4b926093c127d00acdc83810b5ac77eeba32b6d5ae4eadd1da3/spektral-1.0.6-py3-none-any.whl (114kB)\n",
            "\r\u001b[K     |██▉                             | 10kB 17.7MB/s eta 0:00:01\r\u001b[K     |█████▊                          | 20kB 20.8MB/s eta 0:00:01\r\u001b[K     |████████▋                       | 30kB 15.6MB/s eta 0:00:01\r\u001b[K     |███████████▌                    | 40kB 13.7MB/s eta 0:00:01\r\u001b[K     |██████████████▎                 | 51kB 10.0MB/s eta 0:00:01\r\u001b[K     |█████████████████▏              | 61kB 10.5MB/s eta 0:00:01\r\u001b[K     |████████████████████            | 71kB 10.2MB/s eta 0:00:01\r\u001b[K     |███████████████████████         | 81kB 11.1MB/s eta 0:00:01\r\u001b[K     |█████████████████████████▉      | 92kB 10.3MB/s eta 0:00:01\r\u001b[K     |████████████████████████████▋   | 102kB 9.3MB/s eta 0:00:01\r\u001b[K     |███████████████████████████████▌| 112kB 9.3MB/s eta 0:00:01\r\u001b[K     |████████████████████████████████| 122kB 9.3MB/s \n",
            "\u001b[?25hRequirement already satisfied: pandas in /usr/local/lib/python3.7/dist-packages (from spektral) (1.1.5)\n",
            "Requirement already satisfied: joblib in /usr/local/lib/python3.7/dist-packages (from spektral) (1.0.1)\n",
            "Requirement already satisfied: numpy in /usr/local/lib/python3.7/dist-packages (from spektral) (1.19.5)\n",
            "Requirement already satisfied: scikit-learn in /usr/local/lib/python3.7/dist-packages (from spektral) (0.22.2.post1)\n",
            "Requirement already satisfied: requests in /usr/local/lib/python3.7/dist-packages (from spektral) (2.23.0)\n",
            "Requirement already satisfied: tqdm in /usr/local/lib/python3.7/dist-packages (from spektral) (4.41.1)\n",
            "Requirement already satisfied: scipy in /usr/local/lib/python3.7/dist-packages (from spektral) (1.4.1)\n",
            "Requirement already satisfied: networkx in /usr/local/lib/python3.7/dist-packages (from spektral) (2.5.1)\n",
            "Requirement already satisfied: tensorflow>=2.1.0 in /usr/local/lib/python3.7/dist-packages (from spektral) (2.4.1)\n",
            "Requirement already satisfied: lxml in /usr/local/lib/python3.7/dist-packages (from spektral) (4.2.6)\n",
            "Requirement already satisfied: python-dateutil>=2.7.3 in /usr/local/lib/python3.7/dist-packages (from pandas->spektral) (2.8.1)\n",
            "Requirement already satisfied: pytz>=2017.2 in /usr/local/lib/python3.7/dist-packages (from pandas->spektral) (2018.9)\n",
            "Requirement already satisfied: urllib3!=1.25.0,!=1.25.1,<1.26,>=1.21.1 in /usr/local/lib/python3.7/dist-packages (from requests->spektral) (1.24.3)\n",
            "Requirement already satisfied: idna<3,>=2.5 in /usr/local/lib/python3.7/dist-packages (from requests->spektral) (2.10)\n",
            "Requirement already satisfied: chardet<4,>=3.0.2 in /usr/local/lib/python3.7/dist-packages (from requests->spektral) (3.0.4)\n",
            "Requirement already satisfied: certifi>=2017.4.17 in /usr/local/lib/python3.7/dist-packages (from requests->spektral) (2020.12.5)\n",
            "Requirement already satisfied: decorator<5,>=4.3 in /usr/local/lib/python3.7/dist-packages (from networkx->spektral) (4.4.2)\n",
            "Requirement already satisfied: google-pasta~=0.2 in /usr/local/lib/python3.7/dist-packages (from tensorflow>=2.1.0->spektral) (0.2.0)\n",
            "Requirement already satisfied: tensorflow-estimator<2.5.0,>=2.4.0 in /usr/local/lib/python3.7/dist-packages (from tensorflow>=2.1.0->spektral) (2.4.0)\n",
            "Requirement already satisfied: six~=1.15.0 in /usr/local/lib/python3.7/dist-packages (from tensorflow>=2.1.0->spektral) (1.15.0)\n",
            "Requirement already satisfied: typing-extensions~=3.7.4 in /usr/local/lib/python3.7/dist-packages (from tensorflow>=2.1.0->spektral) (3.7.4.3)\n",
            "Requirement already satisfied: wrapt~=1.12.1 in /usr/local/lib/python3.7/dist-packages (from tensorflow>=2.1.0->spektral) (1.12.1)\n",
            "Requirement already satisfied: wheel~=0.35 in /usr/local/lib/python3.7/dist-packages (from tensorflow>=2.1.0->spektral) (0.36.2)\n",
            "Requirement already satisfied: absl-py~=0.10 in /usr/local/lib/python3.7/dist-packages (from tensorflow>=2.1.0->spektral) (0.12.0)\n",
            "Requirement already satisfied: h5py~=2.10.0 in /usr/local/lib/python3.7/dist-packages (from tensorflow>=2.1.0->spektral) (2.10.0)\n",
            "Requirement already satisfied: astunparse~=1.6.3 in /usr/local/lib/python3.7/dist-packages (from tensorflow>=2.1.0->spektral) (1.6.3)\n",
            "Requirement already satisfied: protobuf>=3.9.2 in /usr/local/lib/python3.7/dist-packages (from tensorflow>=2.1.0->spektral) (3.12.4)\n",
            "Requirement already satisfied: termcolor~=1.1.0 in /usr/local/lib/python3.7/dist-packages (from tensorflow>=2.1.0->spektral) (1.1.0)\n",
            "Requirement already satisfied: grpcio~=1.32.0 in /usr/local/lib/python3.7/dist-packages (from tensorflow>=2.1.0->spektral) (1.32.0)\n",
            "Requirement already satisfied: keras-preprocessing~=1.1.2 in /usr/local/lib/python3.7/dist-packages (from tensorflow>=2.1.0->spektral) (1.1.2)\n",
            "Requirement already satisfied: gast==0.3.3 in /usr/local/lib/python3.7/dist-packages (from tensorflow>=2.1.0->spektral) (0.3.3)\n",
            "Requirement already satisfied: opt-einsum~=3.3.0 in /usr/local/lib/python3.7/dist-packages (from tensorflow>=2.1.0->spektral) (3.3.0)\n",
            "Requirement already satisfied: flatbuffers~=1.12.0 in /usr/local/lib/python3.7/dist-packages (from tensorflow>=2.1.0->spektral) (1.12)\n",
            "Requirement already satisfied: tensorboard~=2.4 in /usr/local/lib/python3.7/dist-packages (from tensorflow>=2.1.0->spektral) (2.4.1)\n",
            "Requirement already satisfied: setuptools in /usr/local/lib/python3.7/dist-packages (from protobuf>=3.9.2->tensorflow>=2.1.0->spektral) (56.0.0)\n",
            "Requirement already satisfied: tensorboard-plugin-wit>=1.6.0 in /usr/local/lib/python3.7/dist-packages (from tensorboard~=2.4->tensorflow>=2.1.0->spektral) (1.8.0)\n",
            "Requirement already satisfied: markdown>=2.6.8 in /usr/local/lib/python3.7/dist-packages (from tensorboard~=2.4->tensorflow>=2.1.0->spektral) (3.3.4)\n",
            "Requirement already satisfied: google-auth-oauthlib<0.5,>=0.4.1 in /usr/local/lib/python3.7/dist-packages (from tensorboard~=2.4->tensorflow>=2.1.0->spektral) (0.4.4)\n",
            "Requirement already satisfied: google-auth<2,>=1.6.3 in /usr/local/lib/python3.7/dist-packages (from tensorboard~=2.4->tensorflow>=2.1.0->spektral) (1.28.1)\n",
            "Requirement already satisfied: werkzeug>=0.11.15 in /usr/local/lib/python3.7/dist-packages (from tensorboard~=2.4->tensorflow>=2.1.0->spektral) (1.0.1)\n",
            "Requirement already satisfied: importlib-metadata; python_version < \"3.8\" in /usr/local/lib/python3.7/dist-packages (from markdown>=2.6.8->tensorboard~=2.4->tensorflow>=2.1.0->spektral) (3.10.1)\n",
            "Requirement already satisfied: requests-oauthlib>=0.7.0 in /usr/local/lib/python3.7/dist-packages (from google-auth-oauthlib<0.5,>=0.4.1->tensorboard~=2.4->tensorflow>=2.1.0->spektral) (1.3.0)\n",
            "Requirement already satisfied: rsa<5,>=3.1.4; python_version >= \"3.6\" in /usr/local/lib/python3.7/dist-packages (from google-auth<2,>=1.6.3->tensorboard~=2.4->tensorflow>=2.1.0->spektral) (4.7.2)\n",
            "Requirement already satisfied: pyasn1-modules>=0.2.1 in /usr/local/lib/python3.7/dist-packages (from google-auth<2,>=1.6.3->tensorboard~=2.4->tensorflow>=2.1.0->spektral) (0.2.8)\n",
            "Requirement already satisfied: cachetools<5.0,>=2.0.0 in /usr/local/lib/python3.7/dist-packages (from google-auth<2,>=1.6.3->tensorboard~=2.4->tensorflow>=2.1.0->spektral) (4.2.1)\n",
            "Requirement already satisfied: zipp>=0.5 in /usr/local/lib/python3.7/dist-packages (from importlib-metadata; python_version < \"3.8\"->markdown>=2.6.8->tensorboard~=2.4->tensorflow>=2.1.0->spektral) (3.4.1)\n",
            "Requirement already satisfied: oauthlib>=3.0.0 in /usr/local/lib/python3.7/dist-packages (from requests-oauthlib>=0.7.0->google-auth-oauthlib<0.5,>=0.4.1->tensorboard~=2.4->tensorflow>=2.1.0->spektral) (3.1.0)\n",
            "Requirement already satisfied: pyasn1>=0.1.3 in /usr/local/lib/python3.7/dist-packages (from rsa<5,>=3.1.4; python_version >= \"3.6\"->google-auth<2,>=1.6.3->tensorboard~=2.4->tensorflow>=2.1.0->spektral) (0.4.8)\n",
            "Installing collected packages: spektral\n",
            "Successfully installed spektral-1.0.6\n"
          ],
          "name": "stdout"
        }
      ]
    },
    {
      "cell_type": "code",
      "metadata": {
        "id": "wlJbsTGjLdAw"
      },
      "source": [
        "from tensorflow.keras.layers import Dense, Input\n",
        "from tensorflow.keras.losses import CategoricalCrossentropy\n",
        "from tensorflow.keras.metrics import SparseCategoricalAccuracy\n",
        "from tensorflow.keras.models import Model\n",
        "from tensorflow.keras.optimizers import RMSprop\n",
        "from tensorflow.keras.callbacks import EarlyStopping\n",
        "import tensorflow as tf\n",
        "import keras\n",
        "from tensorflow.keras.regularizers import l2\n",
        "from keras.utils.vis_utils import plot_model\n",
        "\n",
        "from keras.layers import Lambda\n",
        "from keras.layers import Activation\n",
        "\n",
        "import spektral\n",
        "from spektral.data import BatchLoader\n",
        "from spektral.datasets import QM9\n",
        "from spektral.layers import ECCConv, GlobalSumPool\n",
        "import pickle\n",
        "\n",
        "from google.colab import drive\n",
        "\n",
        "import copy\n",
        "\n",
        "import os\n",
        "import math\n",
        "import pandas as pd\n",
        "import numpy as np\n",
        "import pickle\n",
        "import random\n",
        "from numpy.random import randn\n",
        "from numpy.random import randint\n",
        "\n",
        "import matplotlib.pyplot as plt"
      ],
      "execution_count": null,
      "outputs": []
    },
    {
      "cell_type": "code",
      "metadata": {
        "colab": {
          "base_uri": "https://localhost:8080/"
        },
        "id": "pFPgTimQLkU1",
        "outputId": "4b73deae-4414-44cd-ace4-896e0f15c864"
      },
      "source": [
        "drive.mount(\"/content/drive\")"
      ],
      "execution_count": null,
      "outputs": [
        {
          "output_type": "stream",
          "text": [
            "Mounted at /content/drive\n"
          ],
          "name": "stdout"
        }
      ]
    },
    {
      "cell_type": "code",
      "metadata": {
        "id": "qNxBO6hC9AKm"
      },
      "source": [
        "#Custom dataset for training\n",
        "#Takes in array of graphs and array of labels\n",
        "class LabelDataset(spektral.data.dataset.Dataset):\n",
        "  def __init__(self, graph_arr, labels, **kwargs):\n",
        "        self.graph_arr = copy.deepcopy(graph_arr)\n",
        "        self.labels = labels\n",
        "        super().__init__(**kwargs)\n",
        "  \n",
        "  def read(self):\n",
        "      for x in range(len(self.graph_arr)):\n",
        "        self.graph_arr[x].y = self.labels[x]\n",
        "      return np.asarray(self.graph_arr)\n",
        "  \n",
        "  def labels(self):\n",
        "    output = []\n",
        "    for x in self.graph_arr:\n",
        "      output.append(x.y)\n",
        "    return output"
      ],
      "execution_count": null,
      "outputs": []
    },
    {
      "cell_type": "code",
      "metadata": {
        "id": "sJIED6SfNH4L"
      },
      "source": [
        "#Custom dataset for training\n",
        "#Takes in node values, adj matrix, weight matrix, labels\n",
        "class FakeDataset(spektral.data.dataset.Dataset):\n",
        "  def __init__(self, X, A, E, Y, **kwargs):\n",
        "        self.X = X\n",
        "        self.A = A\n",
        "        self.E = E\n",
        "        self.Y = Y\n",
        "        super().__init__(**kwargs)\n",
        "  \n",
        "  def read(self):\n",
        "      output = []\n",
        "      for x in range(len(self.X)):\n",
        "        graph = spektral.data.graph.Graph(x = self.X[x], a = self.A, e = self.E, y = self.Y[x])\n",
        "        output.append(graph)\n",
        "      return output"
      ],
      "execution_count": null,
      "outputs": []
    },
    {
      "cell_type": "code",
      "metadata": {
        "id": "MNlS7XOjLklI"
      },
      "source": [
        "#Dataset needed for reconstruction of pickle\n",
        "class MyDataset(spektral.data.dataset.Dataset):\n",
        "    def __init__(self, adj_matrix, wadj_matrix, df, **kwargs):\n",
        "        self.adj_matrix = adj_matrix\n",
        "        self.wadj_matrix = wadj_matrix\n",
        "        self.df = df\n",
        "        super().__init__(**kwargs)\n",
        "\n",
        "    def read(self):\n",
        "      output = []\n",
        "\n",
        "      for row in range(0, len(self.df), 30):\n",
        "        label = self.df.iloc[row]['Label']\n",
        "        print(\"row label: \"+ str(row) + \", \" + str(label))\n",
        "        nodes_data = []\n",
        "        time_weights = []\n",
        "\n",
        "        for row_between in range(row, row+30):\n",
        "          if(row_between != row):\n",
        "            time_weights.append(self.df.iloc[row_between]['Time'] - self.df.iloc[row_between-1]['Time'])\n",
        "          for joint in range(20):\n",
        "            node_d = []\n",
        "            for xyz in range(3):\n",
        "              n = 1+(joint*3 + xyz)\n",
        "              node_d.append(self.df.iloc[row_between][n])\n",
        "            nodes_data.append(node_d)\n",
        "\n",
        "        #make weight adj matrix\n",
        "        print(\"weights: \" + str(time_weights))\n",
        "        new_wadj_matrix = make_wadj_matrix30(self.wadj_matrix, time_weights)\n",
        "        nodes_data = np.asarray(nodes_data)\n",
        "        adj_matrix = np.asarray(self.adj_matrix)\n",
        "        weight_adj_matrix = np.asarray(new_wadj_matrix).reshape(600, 600, 1)\n",
        "        label = np.array([label])\n",
        "\n",
        "        graph = spektral.data.graph.Graph(x = nodes_data, a = adj_matrix, e = weight_adj_matrix, y = label)\n",
        "        output.append(graph)\n",
        "      return output"
      ],
      "execution_count": null,
      "outputs": []
    },
    {
      "cell_type": "code",
      "metadata": {
        "id": "hvo68CnGLmPx"
      },
      "source": [
        "# with open('/content/drive/My Drive/Colab Notebooks/Datasets/MHAD_dataset.pickle', 'rb') as data:\n",
        "#     loaded_dataset = pickle.load(data)"
      ],
      "execution_count": null,
      "outputs": []
    },
    {
      "cell_type": "code",
      "metadata": {
        "id": "hNRJLidDLnyq"
      },
      "source": [
        "# with open('/content/drive/My Drive/Colab Notebooks/Datasets/NTURGBD_dataset.pickle', 'rb') as data:\n",
        "#     ntu_dataset = pickle.load(data)"
      ],
      "execution_count": null,
      "outputs": []
    },
    {
      "cell_type": "code",
      "metadata": {
        "id": "G-WIuCZNwg4-"
      },
      "source": [
        "# load dataset from pickle\n",
        "with open('/content/drive/My Drive/Colab Notebooks/Datasets/mhad_graphs30.pickle', 'rb') as data:\n",
        "  mhad_dataset = pickle.load(data)"
      ],
      "execution_count": null,
      "outputs": []
    },
    {
      "cell_type": "code",
      "metadata": {
        "id": "01kE4mpavy2T"
      },
      "source": [
        "# with open('/content/drive/My Drive/Colab Notebooks/Datasets/ntu_graphs30.pickle', 'rb') as data:\n",
        "#   ntu_dataset = pickle.load(data)"
      ],
      "execution_count": null,
      "outputs": []
    },
    {
      "cell_type": "code",
      "metadata": {
        "id": "VKlv0HY3Lo17"
      },
      "source": [
        "loaded_dataset = mhad_dataset"
      ],
      "execution_count": null,
      "outputs": []
    },
    {
      "cell_type": "code",
      "metadata": {
        "id": "nxUdNoM8LsR2"
      },
      "source": [
        "learning_rate = 0.0001  # Learning rate\n",
        "epochs = 20  # Number of training epochs\n",
        "batch_size = 64 # Batch size\n",
        "# Parameters\n",
        "F = loaded_dataset.n_node_features  # Dimension of node features\n",
        "S = loaded_dataset.n_edge_features  # Dimension of edge features\n",
        "n_out = 6  # Dimension of the target\n",
        "\n",
        "# Train/test split\n",
        "idxs = np.random.permutation(len(loaded_dataset))\n",
        "split = int(0.8 * len(loaded_dataset))\n",
        "idx_tr, idx_te = np.split(idxs, [split])\n",
        "dataset_tr, dataset_te = loaded_dataset[idx_tr], loaded_dataset[idx_te]"
      ],
      "execution_count": null,
      "outputs": []
    },
    {
      "cell_type": "code",
      "metadata": {
        "id": "jUE-GHsVL3jg",
        "colab": {
          "base_uri": "https://localhost:8080/",
          "height": 1000
        },
        "outputId": "556e4136-7585-4c56-c1b9-ec79673734af"
      },
      "source": [
        "# GCN Model\n",
        "X_in = Input(shape=(600, F))\n",
        "A_in = Input(shape=(600, 600))\n",
        "E_in = Input(shape=(600, 600, S))\n",
        "\n",
        "fe = spektral.layers.GCNConv(64, activation=\"relu\")([X_in, A_in])\n",
        "fe = tf.keras.layers.BatchNormalization()(fe)\n",
        "fe = tf.keras.layers.Dropout(0.1)(fe)\n",
        "fe = spektral.layers.GCNConv(128, activation=\"relu\")([fe, A_in])\n",
        "fe = tf.keras.layers.BatchNormalization()(fe)\n",
        "fe = tf.keras.layers.Dropout(0.1)(fe)\n",
        "fe = spektral.layers.GCNConv(256, activation=\"relu\")([fe, A_in])\n",
        "fe = tf.keras.layers.BatchNormalization()(fe)\n",
        "fe = tf.keras.layers.Dropout(0.1)(fe)\n",
        "fe = spektral.layers.GCNConv(512, activation=\"relu\")([fe, A_in])\n",
        "fe = tf.keras.layers.BatchNormalization()(fe)\n",
        "fe = tf.keras.layers.Dropout(0.1)(fe)\n",
        "fe = tf.keras.layers.Flatten()(fe)\n",
        "fe = tf.keras.layers.Dense(32, activation='relu')(fe)\n",
        "fe = tf.keras.layers.BatchNormalization()(fe)\n",
        "fe = tf.keras.layers.Dropout(0.3)(fe)\n",
        "output = Dense(n_out, activation=\"softmax\")(fe)\n",
        "\n",
        "model = Model(inputs=[X_in, A_in, E_in], outputs=output)\n",
        "# Build model\n",
        "model.compile(optimizer=tf.keras.optimizers.Nadam(lr=0.0001), loss=tf.keras.losses.SparseCategoricalCrossentropy(), metrics=tf.keras.metrics.SparseCategoricalAccuracy())\n",
        "model.summary()\n",
        "# plot_model(model, to_file='/content/drive/My Drive/Colab Notebooks/Model pics/GCN_model.png', show_shapes=True, show_layer_names=True)\n",
        "\n",
        "\n",
        "# FIT MODEL\n",
        "loader_tr = BatchLoader(dataset_tr, batch_size=batch_size)\n",
        "model_history = model.fit(loader_tr.load(), steps_per_epoch=loader_tr.steps_per_epoch, epochs=100)\n",
        "\n",
        "\n",
        "# EVALUATE MODEL\n",
        "print(\"Testing model\")\n",
        "loader_te = BatchLoader(dataset_te, batch_size=batch_size)\n",
        "model_loss = model.evaluate(loader_te.load(), steps=loader_te.steps_per_epoch)\n",
        "print(\"Done. Test loss: {}\".format(model_loss))\n"
      ],
      "execution_count": null,
      "outputs": [
        {
          "output_type": "stream",
          "text": [
            "Model: \"model_1\"\n",
            "__________________________________________________________________________________________________\n",
            "Layer (type)                    Output Shape         Param #     Connected to                     \n",
            "==================================================================================================\n",
            "input_4 (InputLayer)            [(None, 600, 3)]     0                                            \n",
            "__________________________________________________________________________________________________\n",
            "input_5 (InputLayer)            [(None, 600, 600)]   0                                            \n",
            "__________________________________________________________________________________________________\n",
            "gcn_conv_4 (GCNConv)            (None, 600, 64)      256         input_4[0][0]                    \n",
            "                                                                 input_5[0][0]                    \n",
            "__________________________________________________________________________________________________\n",
            "batch_normalization_5 (BatchNor (None, 600, 64)      256         gcn_conv_4[0][0]                 \n",
            "__________________________________________________________________________________________________\n",
            "dropout_5 (Dropout)             (None, 600, 64)      0           batch_normalization_5[0][0]      \n",
            "__________________________________________________________________________________________________\n",
            "gcn_conv_5 (GCNConv)            (None, 600, 128)     8320        dropout_5[0][0]                  \n",
            "                                                                 input_5[0][0]                    \n",
            "__________________________________________________________________________________________________\n",
            "batch_normalization_6 (BatchNor (None, 600, 128)     512         gcn_conv_5[0][0]                 \n",
            "__________________________________________________________________________________________________\n",
            "dropout_6 (Dropout)             (None, 600, 128)     0           batch_normalization_6[0][0]      \n",
            "__________________________________________________________________________________________________\n",
            "gcn_conv_6 (GCNConv)            (None, 600, 256)     33024       dropout_6[0][0]                  \n",
            "                                                                 input_5[0][0]                    \n",
            "__________________________________________________________________________________________________\n",
            "batch_normalization_7 (BatchNor (None, 600, 256)     1024        gcn_conv_6[0][0]                 \n",
            "__________________________________________________________________________________________________\n",
            "dropout_7 (Dropout)             (None, 600, 256)     0           batch_normalization_7[0][0]      \n",
            "__________________________________________________________________________________________________\n",
            "gcn_conv_7 (GCNConv)            (None, 600, 512)     131584      dropout_7[0][0]                  \n",
            "                                                                 input_5[0][0]                    \n",
            "__________________________________________________________________________________________________\n",
            "batch_normalization_8 (BatchNor (None, 600, 512)     2048        gcn_conv_7[0][0]                 \n",
            "__________________________________________________________________________________________________\n",
            "dropout_8 (Dropout)             (None, 600, 512)     0           batch_normalization_8[0][0]      \n",
            "__________________________________________________________________________________________________\n",
            "flatten_1 (Flatten)             (None, 307200)       0           dropout_8[0][0]                  \n",
            "__________________________________________________________________________________________________\n",
            "dense_2 (Dense)                 (None, 32)           9830432     flatten_1[0][0]                  \n",
            "__________________________________________________________________________________________________\n",
            "batch_normalization_9 (BatchNor (None, 32)           128         dense_2[0][0]                    \n",
            "__________________________________________________________________________________________________\n",
            "dropout_9 (Dropout)             (None, 32)           0           batch_normalization_9[0][0]      \n",
            "__________________________________________________________________________________________________\n",
            "input_6 (InputLayer)            [(None, 600, 600, 1) 0                                            \n",
            "__________________________________________________________________________________________________\n",
            "dense_3 (Dense)                 (None, 6)            198         dropout_9[0][0]                  \n",
            "==================================================================================================\n",
            "Total params: 10,007,782\n",
            "Trainable params: 10,005,798\n",
            "Non-trainable params: 1,984\n",
            "__________________________________________________________________________________________________\n",
            "Epoch 1/100\n",
            "5/5 [==============================] - 5s 159ms/step - loss: 1.4333 - sparse_categorical_accuracy: 0.5400\n",
            "Epoch 2/100\n",
            "5/5 [==============================] - 1s 163ms/step - loss: 0.3000 - sparse_categorical_accuracy: 0.9292\n",
            "Epoch 3/100\n",
            "5/5 [==============================] - 1s 156ms/step - loss: 0.1557 - sparse_categorical_accuracy: 0.9810\n",
            "Epoch 4/100\n",
            "5/5 [==============================] - 1s 160ms/step - loss: 0.1106 - sparse_categorical_accuracy: 0.9916\n",
            "Epoch 5/100\n",
            "5/5 [==============================] - 1s 158ms/step - loss: 0.0841 - sparse_categorical_accuracy: 1.0000\n",
            "Epoch 6/100\n",
            "5/5 [==============================] - 1s 146ms/step - loss: 0.0864 - sparse_categorical_accuracy: 0.9934\n",
            "Epoch 7/100\n",
            "5/5 [==============================] - 1s 162ms/step - loss: 0.0649 - sparse_categorical_accuracy: 1.0000\n",
            "Epoch 8/100\n",
            "5/5 [==============================] - 1s 157ms/step - loss: 0.0576 - sparse_categorical_accuracy: 1.0000\n",
            "Epoch 9/100\n",
            "5/5 [==============================] - 1s 152ms/step - loss: 0.0477 - sparse_categorical_accuracy: 1.0000\n",
            "Epoch 10/100\n",
            "5/5 [==============================] - 1s 157ms/step - loss: 0.0483 - sparse_categorical_accuracy: 0.9988\n",
            "Epoch 11/100\n",
            "5/5 [==============================] - 1s 152ms/step - loss: 0.0431 - sparse_categorical_accuracy: 1.0000\n",
            "Epoch 12/100\n",
            "5/5 [==============================] - 1s 148ms/step - loss: 0.0323 - sparse_categorical_accuracy: 1.0000\n",
            "Epoch 13/100\n",
            "5/5 [==============================] - 1s 151ms/step - loss: 0.0275 - sparse_categorical_accuracy: 1.0000\n",
            "Epoch 14/100\n",
            "5/5 [==============================] - 1s 153ms/step - loss: 0.0342 - sparse_categorical_accuracy: 1.0000\n",
            "Epoch 15/100\n",
            "5/5 [==============================] - 1s 157ms/step - loss: 0.0420 - sparse_categorical_accuracy: 1.0000\n",
            "Epoch 16/100\n",
            "5/5 [==============================] - 1s 154ms/step - loss: 0.0356 - sparse_categorical_accuracy: 1.0000\n",
            "Epoch 17/100\n",
            "5/5 [==============================] - 1s 153ms/step - loss: 0.0327 - sparse_categorical_accuracy: 1.0000\n",
            "Epoch 18/100\n",
            "5/5 [==============================] - 1s 152ms/step - loss: 0.0311 - sparse_categorical_accuracy: 1.0000\n",
            "Epoch 19/100\n",
            "5/5 [==============================] - 1s 156ms/step - loss: 0.0336 - sparse_categorical_accuracy: 1.0000\n",
            "Epoch 20/100\n",
            "5/5 [==============================] - 1s 169ms/step - loss: 0.0363 - sparse_categorical_accuracy: 1.0000\n",
            "Epoch 21/100\n",
            "5/5 [==============================] - 1s 150ms/step - loss: 0.0251 - sparse_categorical_accuracy: 1.0000\n",
            "Epoch 22/100\n",
            "5/5 [==============================] - 1s 157ms/step - loss: 0.0313 - sparse_categorical_accuracy: 1.0000\n",
            "Epoch 23/100\n",
            "5/5 [==============================] - 1s 153ms/step - loss: 0.0239 - sparse_categorical_accuracy: 1.0000\n",
            "Epoch 24/100\n",
            "5/5 [==============================] - 1s 156ms/step - loss: 0.0235 - sparse_categorical_accuracy: 1.0000\n",
            "Epoch 25/100\n",
            "5/5 [==============================] - 1s 153ms/step - loss: 0.0211 - sparse_categorical_accuracy: 1.0000\n",
            "Epoch 26/100\n",
            "5/5 [==============================] - 1s 157ms/step - loss: 0.0194 - sparse_categorical_accuracy: 1.0000\n",
            "Epoch 27/100\n",
            "5/5 [==============================] - 1s 163ms/step - loss: 0.0213 - sparse_categorical_accuracy: 1.0000\n",
            "Epoch 28/100\n",
            "5/5 [==============================] - 1s 152ms/step - loss: 0.0232 - sparse_categorical_accuracy: 1.0000\n",
            "Epoch 29/100\n",
            "5/5 [==============================] - 1s 156ms/step - loss: 0.0239 - sparse_categorical_accuracy: 1.0000\n",
            "Epoch 30/100\n",
            "5/5 [==============================] - 1s 161ms/step - loss: 0.0209 - sparse_categorical_accuracy: 1.0000\n",
            "Epoch 31/100\n",
            "5/5 [==============================] - 1s 155ms/step - loss: 0.0275 - sparse_categorical_accuracy: 1.0000\n",
            "Epoch 32/100\n",
            "5/5 [==============================] - 1s 196ms/step - loss: 0.0185 - sparse_categorical_accuracy: 1.0000\n",
            "Epoch 33/100\n",
            "5/5 [==============================] - 1s 207ms/step - loss: 0.0233 - sparse_categorical_accuracy: 1.0000\n",
            "Epoch 34/100\n",
            "5/5 [==============================] - 1s 153ms/step - loss: 0.0266 - sparse_categorical_accuracy: 1.0000\n",
            "Epoch 35/100\n",
            "5/5 [==============================] - 1s 155ms/step - loss: 0.0182 - sparse_categorical_accuracy: 1.0000\n",
            "Epoch 36/100\n",
            "5/5 [==============================] - 1s 153ms/step - loss: 0.0200 - sparse_categorical_accuracy: 1.0000\n",
            "Epoch 37/100\n",
            "5/5 [==============================] - 1s 165ms/step - loss: 0.0196 - sparse_categorical_accuracy: 1.0000\n",
            "Epoch 38/100\n",
            "5/5 [==============================] - 1s 156ms/step - loss: 0.0176 - sparse_categorical_accuracy: 1.0000\n",
            "Epoch 39/100\n",
            "5/5 [==============================] - 1s 158ms/step - loss: 0.0205 - sparse_categorical_accuracy: 1.0000\n",
            "Epoch 40/100\n",
            "5/5 [==============================] - 1s 158ms/step - loss: 0.0188 - sparse_categorical_accuracy: 1.0000\n",
            "Epoch 41/100\n",
            "5/5 [==============================] - 1s 152ms/step - loss: 0.0166 - sparse_categorical_accuracy: 1.0000\n",
            "Epoch 42/100\n",
            "5/5 [==============================] - 1s 152ms/step - loss: 0.0229 - sparse_categorical_accuracy: 1.0000\n",
            "Epoch 43/100\n",
            "5/5 [==============================] - 1s 151ms/step - loss: 0.0172 - sparse_categorical_accuracy: 1.0000\n",
            "Epoch 44/100\n",
            "5/5 [==============================] - 1s 150ms/step - loss: 0.0173 - sparse_categorical_accuracy: 1.0000\n",
            "Epoch 45/100\n",
            "5/5 [==============================] - 1s 147ms/step - loss: 0.0189 - sparse_categorical_accuracy: 1.0000\n",
            "Epoch 46/100\n",
            "5/5 [==============================] - 1s 146ms/step - loss: 0.0208 - sparse_categorical_accuracy: 1.0000\n",
            "Epoch 47/100\n",
            "5/5 [==============================] - 1s 155ms/step - loss: 0.0196 - sparse_categorical_accuracy: 1.0000\n",
            "Epoch 48/100\n",
            "5/5 [==============================] - 1s 147ms/step - loss: 0.0145 - sparse_categorical_accuracy: 1.0000\n",
            "Epoch 49/100\n",
            "5/5 [==============================] - 1s 154ms/step - loss: 0.0209 - sparse_categorical_accuracy: 1.0000\n",
            "Epoch 50/100\n",
            "5/5 [==============================] - 1s 157ms/step - loss: 0.0153 - sparse_categorical_accuracy: 1.0000\n",
            "Epoch 51/100\n",
            "5/5 [==============================] - 1s 158ms/step - loss: 0.0245 - sparse_categorical_accuracy: 1.0000\n",
            "Epoch 52/100\n",
            "5/5 [==============================] - 1s 157ms/step - loss: 0.0152 - sparse_categorical_accuracy: 1.0000\n",
            "Epoch 53/100\n",
            "5/5 [==============================] - 1s 157ms/step - loss: 0.0138 - sparse_categorical_accuracy: 1.0000\n",
            "Epoch 54/100\n",
            "5/5 [==============================] - 1s 162ms/step - loss: 0.0149 - sparse_categorical_accuracy: 1.0000\n",
            "Epoch 55/100\n",
            "5/5 [==============================] - 1s 163ms/step - loss: 0.0194 - sparse_categorical_accuracy: 1.0000\n",
            "Epoch 56/100\n",
            "5/5 [==============================] - 1s 159ms/step - loss: 0.0198 - sparse_categorical_accuracy: 1.0000\n",
            "Epoch 57/100\n",
            "5/5 [==============================] - 1s 155ms/step - loss: 0.0185 - sparse_categorical_accuracy: 1.0000\n",
            "Epoch 58/100\n",
            "5/5 [==============================] - 1s 156ms/step - loss: 0.0163 - sparse_categorical_accuracy: 1.0000\n",
            "Epoch 59/100\n",
            "5/5 [==============================] - 1s 160ms/step - loss: 0.0143 - sparse_categorical_accuracy: 1.0000\n",
            "Epoch 60/100\n",
            "5/5 [==============================] - 1s 159ms/step - loss: 0.0170 - sparse_categorical_accuracy: 1.0000\n",
            "Epoch 61/100\n",
            "5/5 [==============================] - 1s 151ms/step - loss: 0.0132 - sparse_categorical_accuracy: 1.0000\n",
            "Epoch 62/100\n",
            "5/5 [==============================] - 1s 159ms/step - loss: 0.0153 - sparse_categorical_accuracy: 1.0000\n",
            "Epoch 63/100\n",
            "5/5 [==============================] - 1s 154ms/step - loss: 0.0210 - sparse_categorical_accuracy: 1.0000\n",
            "Epoch 64/100\n",
            "5/5 [==============================] - 1s 156ms/step - loss: 0.0180 - sparse_categorical_accuracy: 1.0000\n",
            "Epoch 65/100\n",
            "5/5 [==============================] - 1s 149ms/step - loss: 0.0135 - sparse_categorical_accuracy: 1.0000\n",
            "Epoch 66/100\n",
            "5/5 [==============================] - 1s 160ms/step - loss: 0.0148 - sparse_categorical_accuracy: 1.0000\n",
            "Epoch 67/100\n",
            "5/5 [==============================] - 1s 151ms/step - loss: 0.0173 - sparse_categorical_accuracy: 1.0000\n",
            "Epoch 68/100\n",
            "5/5 [==============================] - 1s 151ms/step - loss: 0.0137 - sparse_categorical_accuracy: 1.0000\n",
            "Epoch 69/100\n",
            "5/5 [==============================] - 1s 167ms/step - loss: 0.0128 - sparse_categorical_accuracy: 1.0000\n",
            "Epoch 70/100\n",
            "5/5 [==============================] - 1s 150ms/step - loss: 0.0161 - sparse_categorical_accuracy: 1.0000\n",
            "Epoch 71/100\n",
            "5/5 [==============================] - 1s 152ms/step - loss: 0.0148 - sparse_categorical_accuracy: 1.0000\n",
            "Epoch 72/100\n",
            "5/5 [==============================] - 1s 166ms/step - loss: 0.0136 - sparse_categorical_accuracy: 1.0000\n",
            "Epoch 73/100\n",
            "5/5 [==============================] - 1s 154ms/step - loss: 0.0130 - sparse_categorical_accuracy: 1.0000\n",
            "Epoch 74/100\n"
          ],
          "name": "stdout"
        },
        {
          "output_type": "error",
          "ename": "KeyboardInterrupt",
          "evalue": "ignored",
          "traceback": [
            "\u001b[0;31m---------------------------------------------------------------------------\u001b[0m",
            "\u001b[0;31mKeyboardInterrupt\u001b[0m                         Traceback (most recent call last)",
            "\u001b[0;32m<ipython-input-15-a4b35eb5860a>\u001b[0m in \u001b[0;36m<module>\u001b[0;34m()\u001b[0m\n\u001b[1;32m     31\u001b[0m \u001b[0;31m# FIT MODEL\u001b[0m\u001b[0;34m\u001b[0m\u001b[0;34m\u001b[0m\u001b[0;34m\u001b[0m\u001b[0m\n\u001b[1;32m     32\u001b[0m \u001b[0mloader_tr\u001b[0m \u001b[0;34m=\u001b[0m \u001b[0mBatchLoader\u001b[0m\u001b[0;34m(\u001b[0m\u001b[0mdataset_tr\u001b[0m\u001b[0;34m,\u001b[0m \u001b[0mbatch_size\u001b[0m\u001b[0;34m=\u001b[0m\u001b[0mbatch_size\u001b[0m\u001b[0;34m)\u001b[0m\u001b[0;34m\u001b[0m\u001b[0;34m\u001b[0m\u001b[0m\n\u001b[0;32m---> 33\u001b[0;31m \u001b[0mmodel_history\u001b[0m \u001b[0;34m=\u001b[0m \u001b[0mmodel\u001b[0m\u001b[0;34m.\u001b[0m\u001b[0mfit\u001b[0m\u001b[0;34m(\u001b[0m\u001b[0mloader_tr\u001b[0m\u001b[0;34m.\u001b[0m\u001b[0mload\u001b[0m\u001b[0;34m(\u001b[0m\u001b[0;34m)\u001b[0m\u001b[0;34m,\u001b[0m \u001b[0msteps_per_epoch\u001b[0m\u001b[0;34m=\u001b[0m\u001b[0mloader_tr\u001b[0m\u001b[0;34m.\u001b[0m\u001b[0msteps_per_epoch\u001b[0m\u001b[0;34m,\u001b[0m \u001b[0mepochs\u001b[0m\u001b[0;34m=\u001b[0m\u001b[0;36m100\u001b[0m\u001b[0;34m)\u001b[0m\u001b[0;34m\u001b[0m\u001b[0;34m\u001b[0m\u001b[0m\n\u001b[0m\u001b[1;32m     34\u001b[0m \u001b[0;34m\u001b[0m\u001b[0m\n\u001b[1;32m     35\u001b[0m \u001b[0;34m\u001b[0m\u001b[0m\n",
            "\u001b[0;32m/usr/local/lib/python3.7/dist-packages/tensorflow/python/keras/engine/training.py\u001b[0m in \u001b[0;36mfit\u001b[0;34m(self, x, y, batch_size, epochs, verbose, callbacks, validation_split, validation_data, shuffle, class_weight, sample_weight, initial_epoch, steps_per_epoch, validation_steps, validation_batch_size, validation_freq, max_queue_size, workers, use_multiprocessing)\u001b[0m\n\u001b[1;32m   1098\u001b[0m                 _r=1):\n\u001b[1;32m   1099\u001b[0m               \u001b[0mcallbacks\u001b[0m\u001b[0;34m.\u001b[0m\u001b[0mon_train_batch_begin\u001b[0m\u001b[0;34m(\u001b[0m\u001b[0mstep\u001b[0m\u001b[0;34m)\u001b[0m\u001b[0;34m\u001b[0m\u001b[0;34m\u001b[0m\u001b[0m\n\u001b[0;32m-> 1100\u001b[0;31m               \u001b[0mtmp_logs\u001b[0m \u001b[0;34m=\u001b[0m \u001b[0mself\u001b[0m\u001b[0;34m.\u001b[0m\u001b[0mtrain_function\u001b[0m\u001b[0;34m(\u001b[0m\u001b[0miterator\u001b[0m\u001b[0;34m)\u001b[0m\u001b[0;34m\u001b[0m\u001b[0;34m\u001b[0m\u001b[0m\n\u001b[0m\u001b[1;32m   1101\u001b[0m               \u001b[0;32mif\u001b[0m \u001b[0mdata_handler\u001b[0m\u001b[0;34m.\u001b[0m\u001b[0mshould_sync\u001b[0m\u001b[0;34m:\u001b[0m\u001b[0;34m\u001b[0m\u001b[0;34m\u001b[0m\u001b[0m\n\u001b[1;32m   1102\u001b[0m                 \u001b[0mcontext\u001b[0m\u001b[0;34m.\u001b[0m\u001b[0masync_wait\u001b[0m\u001b[0;34m(\u001b[0m\u001b[0;34m)\u001b[0m\u001b[0;34m\u001b[0m\u001b[0;34m\u001b[0m\u001b[0m\n",
            "\u001b[0;32m/usr/local/lib/python3.7/dist-packages/tensorflow/python/eager/def_function.py\u001b[0m in \u001b[0;36m__call__\u001b[0;34m(self, *args, **kwds)\u001b[0m\n\u001b[1;32m    826\u001b[0m     \u001b[0mtracing_count\u001b[0m \u001b[0;34m=\u001b[0m \u001b[0mself\u001b[0m\u001b[0;34m.\u001b[0m\u001b[0mexperimental_get_tracing_count\u001b[0m\u001b[0;34m(\u001b[0m\u001b[0;34m)\u001b[0m\u001b[0;34m\u001b[0m\u001b[0;34m\u001b[0m\u001b[0m\n\u001b[1;32m    827\u001b[0m     \u001b[0;32mwith\u001b[0m \u001b[0mtrace\u001b[0m\u001b[0;34m.\u001b[0m\u001b[0mTrace\u001b[0m\u001b[0;34m(\u001b[0m\u001b[0mself\u001b[0m\u001b[0;34m.\u001b[0m\u001b[0m_name\u001b[0m\u001b[0;34m)\u001b[0m \u001b[0;32mas\u001b[0m \u001b[0mtm\u001b[0m\u001b[0;34m:\u001b[0m\u001b[0;34m\u001b[0m\u001b[0;34m\u001b[0m\u001b[0m\n\u001b[0;32m--> 828\u001b[0;31m       \u001b[0mresult\u001b[0m \u001b[0;34m=\u001b[0m \u001b[0mself\u001b[0m\u001b[0;34m.\u001b[0m\u001b[0m_call\u001b[0m\u001b[0;34m(\u001b[0m\u001b[0;34m*\u001b[0m\u001b[0margs\u001b[0m\u001b[0;34m,\u001b[0m \u001b[0;34m**\u001b[0m\u001b[0mkwds\u001b[0m\u001b[0;34m)\u001b[0m\u001b[0;34m\u001b[0m\u001b[0;34m\u001b[0m\u001b[0m\n\u001b[0m\u001b[1;32m    829\u001b[0m       \u001b[0mcompiler\u001b[0m \u001b[0;34m=\u001b[0m \u001b[0;34m\"xla\"\u001b[0m \u001b[0;32mif\u001b[0m \u001b[0mself\u001b[0m\u001b[0;34m.\u001b[0m\u001b[0m_experimental_compile\u001b[0m \u001b[0;32melse\u001b[0m \u001b[0;34m\"nonXla\"\u001b[0m\u001b[0;34m\u001b[0m\u001b[0;34m\u001b[0m\u001b[0m\n\u001b[1;32m    830\u001b[0m       \u001b[0mnew_tracing_count\u001b[0m \u001b[0;34m=\u001b[0m \u001b[0mself\u001b[0m\u001b[0;34m.\u001b[0m\u001b[0mexperimental_get_tracing_count\u001b[0m\u001b[0;34m(\u001b[0m\u001b[0;34m)\u001b[0m\u001b[0;34m\u001b[0m\u001b[0;34m\u001b[0m\u001b[0m\n",
            "\u001b[0;32m/usr/local/lib/python3.7/dist-packages/tensorflow/python/eager/def_function.py\u001b[0m in \u001b[0;36m_call\u001b[0;34m(self, *args, **kwds)\u001b[0m\n\u001b[1;32m    853\u001b[0m       \u001b[0;31m# In this case we have created variables on the first call, so we run the\u001b[0m\u001b[0;34m\u001b[0m\u001b[0;34m\u001b[0m\u001b[0;34m\u001b[0m\u001b[0m\n\u001b[1;32m    854\u001b[0m       \u001b[0;31m# defunned version which is guaranteed to never create variables.\u001b[0m\u001b[0;34m\u001b[0m\u001b[0;34m\u001b[0m\u001b[0;34m\u001b[0m\u001b[0m\n\u001b[0;32m--> 855\u001b[0;31m       \u001b[0;32mreturn\u001b[0m \u001b[0mself\u001b[0m\u001b[0;34m.\u001b[0m\u001b[0m_stateless_fn\u001b[0m\u001b[0;34m(\u001b[0m\u001b[0;34m*\u001b[0m\u001b[0margs\u001b[0m\u001b[0;34m,\u001b[0m \u001b[0;34m**\u001b[0m\u001b[0mkwds\u001b[0m\u001b[0;34m)\u001b[0m  \u001b[0;31m# pylint: disable=not-callable\u001b[0m\u001b[0;34m\u001b[0m\u001b[0;34m\u001b[0m\u001b[0m\n\u001b[0m\u001b[1;32m    856\u001b[0m     \u001b[0;32melif\u001b[0m \u001b[0mself\u001b[0m\u001b[0;34m.\u001b[0m\u001b[0m_stateful_fn\u001b[0m \u001b[0;32mis\u001b[0m \u001b[0;32mnot\u001b[0m \u001b[0;32mNone\u001b[0m\u001b[0;34m:\u001b[0m\u001b[0;34m\u001b[0m\u001b[0;34m\u001b[0m\u001b[0m\n\u001b[1;32m    857\u001b[0m       \u001b[0;31m# Release the lock early so that multiple threads can perform the call\u001b[0m\u001b[0;34m\u001b[0m\u001b[0;34m\u001b[0m\u001b[0;34m\u001b[0m\u001b[0m\n",
            "\u001b[0;32m/usr/local/lib/python3.7/dist-packages/tensorflow/python/eager/function.py\u001b[0m in \u001b[0;36m__call__\u001b[0;34m(self, *args, **kwargs)\u001b[0m\n\u001b[1;32m   2941\u001b[0m        filtered_flat_args) = self._maybe_define_function(args, kwargs)\n\u001b[1;32m   2942\u001b[0m     return graph_function._call_flat(\n\u001b[0;32m-> 2943\u001b[0;31m         filtered_flat_args, captured_inputs=graph_function.captured_inputs)  # pylint: disable=protected-access\n\u001b[0m\u001b[1;32m   2944\u001b[0m \u001b[0;34m\u001b[0m\u001b[0m\n\u001b[1;32m   2945\u001b[0m   \u001b[0;34m@\u001b[0m\u001b[0mproperty\u001b[0m\u001b[0;34m\u001b[0m\u001b[0;34m\u001b[0m\u001b[0m\n",
            "\u001b[0;32m/usr/local/lib/python3.7/dist-packages/tensorflow/python/eager/function.py\u001b[0m in \u001b[0;36m_call_flat\u001b[0;34m(self, args, captured_inputs, cancellation_manager)\u001b[0m\n\u001b[1;32m   1917\u001b[0m       \u001b[0;31m# No tape is watching; skip to running the function.\u001b[0m\u001b[0;34m\u001b[0m\u001b[0;34m\u001b[0m\u001b[0;34m\u001b[0m\u001b[0m\n\u001b[1;32m   1918\u001b[0m       return self._build_call_outputs(self._inference_function.call(\n\u001b[0;32m-> 1919\u001b[0;31m           ctx, args, cancellation_manager=cancellation_manager))\n\u001b[0m\u001b[1;32m   1920\u001b[0m     forward_backward = self._select_forward_and_backward_functions(\n\u001b[1;32m   1921\u001b[0m         \u001b[0margs\u001b[0m\u001b[0;34m,\u001b[0m\u001b[0;34m\u001b[0m\u001b[0;34m\u001b[0m\u001b[0m\n",
            "\u001b[0;32m/usr/local/lib/python3.7/dist-packages/tensorflow/python/eager/function.py\u001b[0m in \u001b[0;36mcall\u001b[0;34m(self, ctx, args, cancellation_manager)\u001b[0m\n\u001b[1;32m    558\u001b[0m               \u001b[0minputs\u001b[0m\u001b[0;34m=\u001b[0m\u001b[0margs\u001b[0m\u001b[0;34m,\u001b[0m\u001b[0;34m\u001b[0m\u001b[0;34m\u001b[0m\u001b[0m\n\u001b[1;32m    559\u001b[0m               \u001b[0mattrs\u001b[0m\u001b[0;34m=\u001b[0m\u001b[0mattrs\u001b[0m\u001b[0;34m,\u001b[0m\u001b[0;34m\u001b[0m\u001b[0;34m\u001b[0m\u001b[0m\n\u001b[0;32m--> 560\u001b[0;31m               ctx=ctx)\n\u001b[0m\u001b[1;32m    561\u001b[0m         \u001b[0;32melse\u001b[0m\u001b[0;34m:\u001b[0m\u001b[0;34m\u001b[0m\u001b[0;34m\u001b[0m\u001b[0m\n\u001b[1;32m    562\u001b[0m           outputs = execute.execute_with_cancellation(\n",
            "\u001b[0;32m/usr/local/lib/python3.7/dist-packages/tensorflow/python/eager/execute.py\u001b[0m in \u001b[0;36mquick_execute\u001b[0;34m(op_name, num_outputs, inputs, attrs, ctx, name)\u001b[0m\n\u001b[1;32m     58\u001b[0m     \u001b[0mctx\u001b[0m\u001b[0;34m.\u001b[0m\u001b[0mensure_initialized\u001b[0m\u001b[0;34m(\u001b[0m\u001b[0;34m)\u001b[0m\u001b[0;34m\u001b[0m\u001b[0;34m\u001b[0m\u001b[0m\n\u001b[1;32m     59\u001b[0m     tensors = pywrap_tfe.TFE_Py_Execute(ctx._handle, device_name, op_name,\n\u001b[0;32m---> 60\u001b[0;31m                                         inputs, attrs, num_outputs)\n\u001b[0m\u001b[1;32m     61\u001b[0m   \u001b[0;32mexcept\u001b[0m \u001b[0mcore\u001b[0m\u001b[0;34m.\u001b[0m\u001b[0m_NotOkStatusException\u001b[0m \u001b[0;32mas\u001b[0m \u001b[0me\u001b[0m\u001b[0;34m:\u001b[0m\u001b[0;34m\u001b[0m\u001b[0;34m\u001b[0m\u001b[0m\n\u001b[1;32m     62\u001b[0m     \u001b[0;32mif\u001b[0m \u001b[0mname\u001b[0m \u001b[0;32mis\u001b[0m \u001b[0;32mnot\u001b[0m \u001b[0;32mNone\u001b[0m\u001b[0;34m:\u001b[0m\u001b[0;34m\u001b[0m\u001b[0;34m\u001b[0m\u001b[0m\n",
            "\u001b[0;31mKeyboardInterrupt\u001b[0m: "
          ]
        }
      ]
    },
    {
      "cell_type": "markdown",
      "metadata": {
        "id": "uspxT5pnMGxy"
      },
      "source": [
        "# GCN-GAN"
      ]
    },
    {
      "cell_type": "code",
      "metadata": {
        "id": "G0lzICC51E3i"
      },
      "source": [
        "F = loaded_dataset.n_node_features  # Dimension of node features\n",
        "S = loaded_dataset.n_edge_features  # Dimension of edge features\n",
        "n_out = 6  # Dimension of the target"
      ],
      "execution_count": null,
      "outputs": []
    },
    {
      "cell_type": "code",
      "metadata": {
        "id": "cvKvfvuTz3Af"
      },
      "source": [
        "@tf.function\n",
        "def train_on_batch(inputs, target):\n",
        "    inputs = tf.Variable(inputs)\n",
        "    with tf.GradientTape() as tape:\n",
        "        predictions = model(inputs, training=True)\n",
        "        loss = loss_fn(target, predictions) + sum(model.losses)\n",
        "        acc = tf.reduce_mean(sparse_categorical_accuracy(target, predictions))\n",
        "\n",
        "    gradients = tape.gradient(loss, model.trainable_variables)\n",
        "    optimizer.apply_gradients(zip(gradients, model.trainable_variables))\n",
        "    return loss, acc"
      ],
      "execution_count": null,
      "outputs": []
    },
    {
      "cell_type": "code",
      "metadata": {
        "id": "9n40AbQGnK08"
      },
      "source": [
        "def define_discriminator(n_classes=6):\n",
        "\n",
        "  X_in = Input(shape=(600, F))\n",
        "  A_in = Input(shape=(600, 600))\n",
        "  E_in = Input(shape=(600, 600, S))\n",
        "\n",
        "  fe = spektral.layers.GCNConv(64)([X_in, A_in])\n",
        "  fe = tf.keras.layers.LeakyReLU(0.1)(fe)\n",
        "  fe = spektral.layers.GCNConv(128)([fe, A_in])\n",
        "  fe = tf.keras.layers.LeakyReLU(0.1)(fe)\n",
        "  fe = tf.keras.layers.BatchNormalization()(fe)\n",
        "  fe = spektral.layers.GCNConv(256)([fe, A_in])\n",
        "  fe = tf.keras.layers.LeakyReLU(0.1)(fe)\n",
        "  fe = tf.keras.layers.BatchNormalization()(fe)\n",
        "  fe = spektral.layers.GCNConv(512)([fe, A_in])\n",
        "  fe = tf.keras.layers.LeakyReLU(0.1)(fe)\n",
        "  fe = tf.keras.layers.BatchNormalization()(fe)\n",
        "  fe = tf.keras.layers.Flatten()(fe)\n",
        "  fe = tf.keras.layers.Dense(32, activation='relu')(fe)\n",
        "  fe = tf.keras.layers.BatchNormalization()(fe)\n",
        "  fe = tf.keras.layers.Dropout(0.3)(fe)\n",
        "  out_layer = Dense(n_classes)(fe)\n",
        "\n",
        "  d_out_layer = Lambda(custom_activation)(out_layer)\n",
        "  d_model = Model(inputs=[X_in, A_in, E_in], outputs=d_out_layer)\n",
        "  d_model.compile(loss='binary_crossentropy', optimizer=tf.keras.optimizers.Nadam(lr=0.0001, beta_1=0.9))\n",
        "\n",
        "  c_out_layer = Activation('softmax')(out_layer)\n",
        "  # define and compile supervised discriminator model\n",
        "  c_model = Model(inputs=[X_in, A_in, E_in], outputs=c_out_layer)\n",
        "  c_model.compile(loss='sparse_categorical_crossentropy', optimizer=tf.keras.optimizers.Nadam(lr=0.0001, beta_1=0.9), metrics=['accuracy'])\n",
        "\n",
        "  return d_model, c_model"
      ],
      "execution_count": null,
      "outputs": []
    },
    {
      "cell_type": "code",
      "metadata": {
        "id": "LTYLlPHJdHhK"
      },
      "source": [
        "# Open precalculated matrices for graphs\n",
        "with open('/content/drive/My Drive/Colab Notebooks/Datasets/mhad30fps_wadj_matr.pickle', 'rb') as data:\n",
        "  mhad_wadj_matr = pickle.load(data)\n",
        "\n",
        "with open('/content/drive/My Drive/Colab Notebooks/Datasets/mhad30fps_adj_matr.pickle', 'rb') as data:\n",
        "  mhad_adj_matr = pickle.load(data)"
      ],
      "execution_count": null,
      "outputs": []
    },
    {
      "cell_type": "code",
      "metadata": {
        "id": "pG100nrragc0"
      },
      "source": [
        "from keras import backend"
      ],
      "execution_count": null,
      "outputs": []
    },
    {
      "cell_type": "code",
      "metadata": {
        "id": "EUc0hpuPadAm"
      },
      "source": [
        "# custom activation function\n",
        "def custom_activation(output):\n",
        "\tlogexpsum = backend.sum(backend.exp(output), axis=-1, keepdims=True)\n",
        "\tresult = logexpsum / (logexpsum + 1.0)\n",
        "\treturn result"
      ],
      "execution_count": null,
      "outputs": []
    },
    {
      "cell_type": "code",
      "metadata": {
        "id": "z51JrWonQtyd"
      },
      "source": [
        "def define_generator(latent_dim, n_classes=6):\n",
        "  in_label = Input(shape=(1,))\n",
        "  li = tf.keras.layers.Embedding(n_classes, 30)(in_label)\n",
        "  n_nodes = 15*10*1\n",
        "  li = Dense(n_nodes)(li)\n",
        "  li = tf.keras.layers.Reshape((15, 10, 1))(li)\n",
        "  # image generator input\n",
        "  in_lat = Input(shape=(latent_dim,))\n",
        "  # foundation for 7x7 image\n",
        "  n_nodes = 128 * 15 * 10 * 3\n",
        "  gen = Dense(n_nodes, activation='relu')(in_lat)\n",
        "  gen = tf.keras.layers.Reshape((15, 10, 384))(gen)\n",
        "\n",
        "\n",
        "  merge = tf.keras.layers.Concatenate()([gen, li])\n",
        "  # upsample to 14x14\n",
        "  gen = tf.keras.layers.Conv2DTranspose(128, (4,4), strides=(2,2), padding='same')(merge)\n",
        "  gen = tf.keras.layers.LeakyReLU(alpha=0.2)(gen)\n",
        "  # output\n",
        "  gen = tf.keras.layers.Conv2D(64, (4,4), activation='tanh', padding='same')(gen)\n",
        "  gen = tf.keras.layers.Conv2D(128, (4,4), activation='tanh', padding='same')(gen)\n",
        "  gen = tf.keras.layers.Conv2D(256, (4,4), activation='tanh', padding='same')(gen)\n",
        "  gen = tf.keras.layers.Conv2D(512, (4,4), activation='tanh', padding='same')(gen)\n",
        "  out_layer = tf.keras.layers.Conv2D(3, (15,10), activation='tanh', padding='same')(gen)\n",
        "  out_layer = tf.keras.layers.Reshape((600, 3))(out_layer)\n",
        "  # define model\n",
        "  model = Model([in_lat, in_label], out_layer)\n",
        "  return model"
      ],
      "execution_count": null,
      "outputs": []
    },
    {
      "cell_type": "code",
      "metadata": {
        "id": "GncMSDUvRfHC"
      },
      "source": [
        "def define_gan(g_model, d_model):\n",
        "  # make weights in the discriminator not trainable\n",
        "  d_model.trainable = False\n",
        "  gen_noise, gen_label = g_model.input\n",
        "  gen_output = g_model.output\n",
        "  # connect output from generator as input to discriminator\n",
        "  gan_output = d_model([g_model.output, mhad_adj_matr, mhad_wadj_matr])\n",
        "  # define gan model as taking noise and outputting a classification\n",
        "  model = Model([gen_noise, gen_label], gan_output)\n",
        "  # compile model\n",
        "  opt = tf.keras.optimizers.Nadam(lr=0.0001, beta_1 = 0.9)\n",
        "  model.compile(loss='binary_crossentropy', optimizer=opt)\n",
        "  return model"
      ],
      "execution_count": null,
      "outputs": []
    },
    {
      "cell_type": "code",
      "metadata": {
        "id": "xV1_GmTSRr2j"
      },
      "source": [
        "def select_supervised_samples(dataset, n_samples=64, n_classes=6):\n",
        "  X = dataset\n",
        "  X_list, y_list = list(), list()\n",
        "  n_per_class = int(n_samples / n_classes)\n",
        "  for i in range(n_classes):\n",
        "    # get all images for this class\n",
        "    X_with_class = []\n",
        "    for z in range(len(X)):\n",
        "      sample = X[z]\n",
        "      if (int(sample.y) == i):\n",
        "        X_with_class.append(sample)\n",
        "    # choose random instances\n",
        "    ix = random.sample(range(0, len(X_with_class)), n_per_class)\n",
        "    # add to list\n",
        "    [X_list.append(X_with_class[j]) for j in ix]\n",
        "    [y_list.append(i) for j in ix]\n",
        "  return np.asarray(X_list), np.asarray(y_list)"
      ],
      "execution_count": null,
      "outputs": []
    },
    {
      "cell_type": "code",
      "metadata": {
        "id": "__b1-y2SRzBU"
      },
      "source": [
        "def generate_real_samples(dataset, n_samples):\n",
        "  # split into images and labels\n",
        "  try:\n",
        "    images, labels = dataset\n",
        "  except:\n",
        "    images = dataset\n",
        "    labels = []\n",
        "    for i in images:\n",
        "      labels.append(i.y)\n",
        "  labels = np.array(labels)\n",
        "  # choose random instances\n",
        "  ix = random.sample(range(0, len(images)), n_samples)\n",
        "  # select images and labels\n",
        "  X = []\n",
        "  labels = labels[ix]\n",
        "  for z in ix:\n",
        "    X.append(images[z])\n",
        "  # generate class labels\n",
        "  y = np.ones((n_samples, 1))\n",
        "  return [X, labels], y"
      ],
      "execution_count": null,
      "outputs": []
    },
    {
      "cell_type": "code",
      "metadata": {
        "id": "XaubWHuBR0T7"
      },
      "source": [
        "# generate points in latent space as input for the generator\n",
        "def generate_latent_points(latent_dim, n_samples):\n",
        "\t# generate points in the latent space\n",
        "\tz_input = np.random.randn(latent_dim * n_samples)\n",
        "\t# reshape into a batch of inputs for the network\n",
        "\tz_input = z_input.reshape(n_samples, latent_dim)\n",
        "  # generate labels\n",
        "\tlabels = randint(0, 6, n_samples)\n",
        "\treturn [z_input, labels]\n",
        " \n",
        "# use the generator to generate n fake examples, with class labels\n",
        "def generate_fake_samples(generator, latent_dim, n_samples):\n",
        "  # generate points in latent space\n",
        "  z_input, labels_input = generate_latent_points(latent_dim, n_samples)\n",
        "  # predict outputs\n",
        "  X_out = generator.predict([z_input, labels_input])\n",
        "  # create class labels\n",
        "  y = np.zeros((n_samples, 1))\n",
        "  return [X_out, labels_input], y"
      ],
      "execution_count": null,
      "outputs": []
    },
    {
      "cell_type": "code",
      "metadata": {
        "id": "m7P0wUAwR1d5"
      },
      "source": [
        "# train the generator and discriminator\n",
        "def train(g_model, d_model, c_model, gan_model, dataset, latent_dim, n_epochs=20, n_batch=64):\n",
        "  bat_per_epo = int(len(dataset) / n_batch)\n",
        "  half_batch = int(n_batch / 2)\n",
        "  X_sup, y_sup = select_supervised_samples(dataset)\n",
        "  # manually enumerate epochs\n",
        "  for i in range(n_epochs):\n",
        "    # enumerate batches over the training set\n",
        "    for j in range(bat_per_epo):\n",
        "      [Xsup_real, ysup_real], _ = generate_real_samples([X_sup, y_sup], half_batch)\n",
        "      batch_d = LabelDataset(Xsup_real, ysup_real)\n",
        "      c_loader_tr = BatchLoader(batch_d, batch_size=half_batch)\n",
        "      batch = c_loader_tr.__next__()\n",
        "      inputs, target = batch\n",
        "      c_loss, c_acc = c_model.train_on_batch(inputs, target)\n",
        "\n",
        "\n",
        "      # get randomly selected 'real' samples\n",
        "      [X_real, _], y_real = generate_real_samples(dataset, half_batch)\n",
        "      batch_d_real = LabelDataset(X_real, y_real)\n",
        "      d_loader_tr = BatchLoader(batch_d_real, batch_size=half_batch)\n",
        "      batch = d_loader_tr.__next__()\n",
        "      inputs, target = batch\n",
        "      d_loss1 = d_model.train_on_batch(inputs, y_real)\n",
        "\n",
        "      [X_fake, label_fake], y_fake = generate_fake_samples(g_model, latent_dim, half_batch)\n",
        "      fake_dataset = FakeDataset(X_fake, mhad_adj_matr, mhad_wadj_matr, y_fake)      \n",
        "      f_loader = BatchLoader(fake_dataset, batch_size=half_batch)      \n",
        "      batch = f_loader.__next__()\n",
        "      inputs, target = batch      \n",
        "      d_loss2= d_model.train_on_batch(inputs, y_fake)\n",
        "      \n",
        "      # prepare points in latent space as input for the generator\n",
        "      [z_input, labels_input] = generate_latent_points(latent_dim, n_batch)\n",
        "      # create inverted labels for the fake samples\n",
        "      X_gan, y_gan = generate_latent_points(latent_dim, n_batch), np.ones((n_batch, 1))\n",
        "      g_loss = gan_model.train_on_batch(X_gan, y_gan)\n",
        "      # summarize loss on this batch\n",
        "      print('>%d, c[%.3f,%.0f], d[%.3f,%.3f], g[%.3f]' % (i+1, c_loss, c_acc*100, d_loss1, d_loss2, g_loss))\n",
        "  # save the generator model\n",
        "  g_model.save('cgan_generator.h5')\n",
        "  d_model.save('cgan_discriminator.h5')\n",
        "  c_model.save('cgan_classifier.h5')"
      ],
      "execution_count": null,
      "outputs": []
    },
    {
      "cell_type": "code",
      "metadata": {
        "id": "5YKR1ZDPR3cj",
        "colab": {
          "base_uri": "https://localhost:8080/"
        },
        "outputId": "d5d523ed-5b69-4737-a989-be8032240bca"
      },
      "source": [
        "latent_dim = 100\n",
        "# create the discriminator models\n",
        "d_model, c_model = define_discriminator()\n",
        "plot_model(d_model, to_file='/content/drive/My Drive/Colab Notebooks/Model pics/Gdisc_model.png', show_shapes=True, show_layer_names=True)\n",
        "plot_model(c_model, to_file='/content/drive/My Drive/Colab Notebooks/Model pics/Gclass_model.png', show_shapes=True, show_layer_names=True)\n",
        "# create the generator\n",
        "g_model = define_generator(latent_dim)\n",
        "plot_model(g_model, to_file='/content/drive/My Drive/Colab Notebooks/Model pics/Ggen_model.png', show_shapes=True, show_layer_names=True)\n",
        "# create the gan\n",
        "gan_model = define_gan(g_model, d_model)\n",
        "# load image data\n",
        "# train model\n",
        "train(g_model, d_model, c_model, gan_model, loaded_dataset, latent_dim)"
      ],
      "execution_count": null,
      "outputs": [
        {
          "output_type": "stream",
          "text": [
            "WARNING:tensorflow:Model was constructed with shape (None, 600, 600) for input KerasTensor(type_spec=TensorSpec(shape=(None, 600, 600), dtype=tf.float32, name='input_8'), name='input_8', description=\"created by layer 'input_8'\"), but it was called on an input with incompatible shape (600, 600).\n",
            "WARNING:tensorflow:Model was constructed with shape (None, 600, 600, 1) for input KerasTensor(type_spec=TensorSpec(shape=(None, 600, 600, 1), dtype=tf.float32, name='input_9'), name='input_9', description=\"created by layer 'input_9'\"), but it was called on an input with incompatible shape (600, 600, 1, 1).\n",
            "WARNING:tensorflow:Model was constructed with shape (None, 600, 600) for input KerasTensor(type_spec=TensorSpec(shape=(None, 600, 600), dtype=tf.float32, name='input_8'), name='input_8', description=\"created by layer 'input_8'\"), but it was called on an input with incompatible shape (600, 600).\n",
            "WARNING:tensorflow:Model was constructed with shape (None, 600, 600, 1) for input KerasTensor(type_spec=TensorSpec(shape=(None, 600, 600, 1), dtype=tf.float32, name='input_9'), name='input_9', description=\"created by layer 'input_9'\"), but it was called on an input with incompatible shape (600, 600, 1, 1).\n",
            "WARNING:tensorflow:Model was constructed with shape (None, 600, 600) for input KerasTensor(type_spec=TensorSpec(shape=(None, 600, 600), dtype=tf.float32, name='input_8'), name='input_8', description=\"created by layer 'input_8'\"), but it was called on an input with incompatible shape (600, 600).\n",
            "WARNING:tensorflow:Model was constructed with shape (None, 600, 600, 1) for input KerasTensor(type_spec=TensorSpec(shape=(None, 600, 600, 1), dtype=tf.float32, name='input_9'), name='input_9', description=\"created by layer 'input_9'\"), but it was called on an input with incompatible shape (600, 600, 1, 1).\n",
            ">1, c[2.914,6], d[0.038,2.859], g[0.144]\n",
            ">1, c[0.881,69], d[0.048,2.434], g[0.136]\n",
            ">1, c[0.528,78], d[0.047,2.580], g[0.129]\n",
            ">1, c[0.437,78], d[0.034,2.612], g[0.127]\n",
            ">1, c[0.494,91], d[0.030,2.623], g[0.119]\n",
            ">2, c[0.250,94], d[0.024,2.573], g[0.120]\n",
            ">2, c[0.242,94], d[0.041,2.507], g[0.126]\n",
            ">2, c[0.173,100], d[0.032,2.355], g[0.128]\n",
            ">2, c[0.226,94], d[0.032,2.418], g[0.121]\n",
            ">2, c[0.223,97], d[0.025,2.238], g[0.120]\n",
            ">3, c[0.192,97], d[0.026,2.237], g[0.119]\n",
            ">3, c[0.175,97], d[0.022,2.280], g[0.118]\n",
            ">3, c[0.166,97], d[0.037,2.342], g[0.117]\n",
            ">3, c[0.207,97], d[0.038,2.234], g[0.113]\n",
            ">3, c[0.149,100], d[0.031,2.134], g[0.109]\n",
            ">4, c[0.121,100], d[0.034,2.411], g[0.113]\n",
            ">4, c[0.100,100], d[0.028,2.313], g[0.115]\n",
            ">4, c[0.119,100], d[0.032,2.302], g[0.100]\n",
            ">4, c[0.086,100], d[0.037,2.236], g[0.094]\n",
            ">4, c[0.093,100], d[0.021,2.170], g[0.101]\n",
            ">5, c[0.082,100], d[0.024,2.266], g[0.100]\n",
            ">5, c[0.114,100], d[0.028,2.251], g[0.100]\n",
            ">5, c[0.079,100], d[0.027,2.316], g[0.090]\n",
            ">5, c[0.066,100], d[0.022,2.246], g[0.093]\n",
            ">5, c[0.054,100], d[0.023,2.226], g[0.093]\n",
            ">6, c[0.073,100], d[0.020,2.195], g[0.101]\n",
            ">6, c[0.058,100], d[0.019,2.176], g[0.089]\n",
            ">6, c[0.090,100], d[0.026,2.168], g[0.096]\n",
            ">6, c[0.057,100], d[0.024,2.145], g[0.094]\n",
            ">6, c[0.066,100], d[0.021,2.133], g[0.100]\n",
            ">7, c[0.082,100], d[0.018,2.155], g[0.099]\n",
            ">7, c[0.044,100], d[0.028,2.184], g[0.095]\n",
            ">7, c[0.083,100], d[0.029,2.155], g[0.100]\n",
            ">7, c[0.116,100], d[0.025,2.117], g[0.104]\n",
            ">7, c[0.055,100], d[0.022,2.190], g[0.093]\n",
            ">8, c[0.110,100], d[0.027,2.125], g[0.103]\n",
            ">8, c[0.074,100], d[0.026,2.201], g[0.103]\n",
            ">8, c[0.058,100], d[0.020,2.189], g[0.097]\n",
            ">8, c[0.079,100], d[0.025,2.127], g[0.096]\n",
            ">8, c[0.095,97], d[0.028,2.127], g[0.086]\n",
            ">9, c[0.064,100], d[0.016,2.155], g[0.098]\n",
            ">9, c[0.077,100], d[0.030,2.196], g[0.098]\n",
            ">9, c[0.056,100], d[0.028,2.246], g[0.089]\n",
            ">9, c[0.096,100], d[0.027,2.228], g[0.074]\n",
            ">9, c[0.052,100], d[0.024,2.267], g[0.056]\n",
            ">10, c[0.068,100], d[0.019,2.272], g[0.054]\n",
            ">10, c[0.044,100], d[0.015,2.208], g[0.043]\n",
            ">10, c[0.065,100], d[0.018,2.241], g[0.038]\n",
            ">10, c[0.055,100], d[0.023,2.251], g[0.042]\n",
            ">10, c[0.079,100], d[0.016,2.096], g[0.041]\n",
            ">11, c[0.037,100], d[0.022,2.310], g[0.064]\n",
            ">11, c[0.058,100], d[0.022,2.219], g[0.062]\n",
            ">11, c[0.052,100], d[0.020,2.179], g[0.070]\n",
            ">11, c[0.045,100], d[0.023,2.213], g[0.068]\n",
            ">11, c[0.041,100], d[0.025,2.212], g[0.062]\n",
            ">12, c[0.052,100], d[0.023,2.187], g[0.062]\n",
            ">12, c[0.066,100], d[0.038,2.172], g[0.075]\n",
            ">12, c[0.056,100], d[0.026,2.222], g[0.079]\n",
            ">12, c[0.035,100], d[0.014,2.214], g[0.082]\n",
            ">12, c[0.075,100], d[0.016,2.151], g[0.072]\n",
            ">13, c[0.033,100], d[0.028,2.108], g[0.074]\n",
            ">13, c[0.057,100], d[0.023,2.132], g[0.096]\n",
            ">13, c[0.033,100], d[0.021,2.233], g[0.075]\n",
            ">13, c[0.079,100], d[0.024,2.132], g[0.083]\n",
            ">13, c[0.043,100], d[0.024,2.205], g[0.075]\n",
            ">14, c[0.030,100], d[0.027,2.254], g[0.065]\n",
            ">14, c[0.051,100], d[0.017,2.134], g[0.087]\n",
            ">14, c[0.060,100], d[0.022,2.132], g[0.087]\n",
            ">14, c[0.066,100], d[0.028,2.227], g[0.086]\n",
            ">14, c[0.065,100], d[0.029,2.114], g[0.080]\n",
            ">15, c[0.048,100], d[0.026,2.153], g[0.071]\n",
            ">15, c[0.099,100], d[0.022,2.077], g[0.065]\n",
            ">15, c[0.076,100], d[0.018,2.156], g[0.065]\n",
            ">15, c[0.083,100], d[0.025,2.185], g[0.053]\n",
            ">15, c[0.065,100], d[0.023,2.141], g[0.044]\n",
            ">16, c[0.037,100], d[0.016,2.131], g[0.041]\n",
            ">16, c[0.092,100], d[0.025,2.195], g[0.039]\n",
            ">16, c[0.052,100], d[0.029,2.176], g[0.019]\n",
            ">16, c[0.074,100], d[0.025,2.173], g[0.017]\n",
            ">16, c[0.071,100], d[0.022,2.115], g[0.016]\n",
            ">17, c[0.047,100], d[0.026,2.062], g[0.015]\n",
            ">17, c[0.088,100], d[0.030,2.176], g[0.023]\n",
            ">17, c[0.057,100], d[0.018,2.106], g[0.013]\n",
            ">17, c[0.072,100], d[0.018,2.155], g[0.014]\n",
            ">17, c[0.065,100], d[0.023,2.106], g[0.019]\n",
            ">18, c[0.040,100], d[0.028,1.997], g[0.020]\n",
            ">18, c[0.058,100], d[0.028,2.200], g[0.024]\n",
            ">18, c[0.086,100], d[0.025,2.190], g[0.026]\n",
            ">18, c[0.039,100], d[0.024,2.129], g[0.025]\n",
            ">18, c[0.058,100], d[0.020,2.142], g[0.026]\n",
            ">19, c[0.057,100], d[0.025,2.185], g[0.023]\n",
            ">19, c[0.070,100], d[0.014,2.206], g[0.024]\n",
            ">19, c[0.051,100], d[0.021,2.183], g[0.024]\n",
            ">19, c[0.049,100], d[0.027,2.088], g[0.024]\n",
            ">19, c[0.040,100], d[0.024,2.073], g[0.030]\n",
            ">20, c[0.070,100], d[0.024,2.102], g[0.026]\n",
            ">20, c[0.048,100], d[0.025,2.161], g[0.020]\n",
            ">20, c[0.047,100], d[0.021,2.115], g[0.025]\n",
            ">20, c[0.063,100], d[0.029,2.117], g[0.032]\n",
            ">20, c[0.050,100], d[0.016,2.072], g[0.024]\n"
          ],
          "name": "stdout"
        }
      ]
    },
    {
      "cell_type": "markdown",
      "metadata": {
        "id": "rCQNLT1psvea"
      },
      "source": [
        "# Generate result"
      ]
    },
    {
      "cell_type": "code",
      "metadata": {
        "id": "NvUCe4_qfDaA"
      },
      "source": [
        "from keras.models import load_model"
      ],
      "execution_count": null,
      "outputs": []
    },
    {
      "cell_type": "code",
      "metadata": {
        "id": "DVpsBE0yZ4js"
      },
      "source": [
        "model = load_model('cgan_generator.h5', compile = False)"
      ],
      "execution_count": null,
      "outputs": []
    },
    {
      "cell_type": "markdown",
      "metadata": {
        "id": "eSjj-kWKCVPW"
      },
      "source": [
        "Labels\n",
        "\n",
        "'Clapping hands', 'Jumping in place', 'Punching', 'Sit down', 'Stand up', 'Throwing a ball'"
      ]
    },
    {
      "cell_type": "code",
      "metadata": {
        "id": "TqGMKZkTHpxh"
      },
      "source": [
        "gen_label = 0"
      ],
      "execution_count": null,
      "outputs": []
    },
    {
      "cell_type": "code",
      "metadata": {
        "id": "hx2FLkwAU7B5"
      },
      "source": [
        "actions = ['Clapping_hands', 'Jumping_in_place', 'Punching', 'Sit_down', 'Stand_up', 'Throwing_a_ball']"
      ],
      "execution_count": null,
      "outputs": []
    },
    {
      "cell_type": "code",
      "metadata": {
        "id": "Dq1aYvWvfEER"
      },
      "source": [
        "latent_points, labels = generate_latent_points(100, 1)\n",
        "X_fake = model.predict([latent_points, np.array([gen_label])])\n",
        "\n",
        "y_fake = gen_label"
      ],
      "execution_count": null,
      "outputs": []
    },
    {
      "cell_type": "code",
      "metadata": {
        "id": "uzi-bUXNkn1m"
      },
      "source": [
        "classif = load_model('cgan_classifier.h5', compile = False, custom_objects={'GCNConv': spektral.layers.GCNConv})"
      ],
      "execution_count": null,
      "outputs": []
    },
    {
      "cell_type": "code",
      "metadata": {
        "id": "UKlGMNe7lbCk",
        "colab": {
          "base_uri": "https://localhost:8080/"
        },
        "outputId": "3781ee11-b2d0-44bb-aa64-0e294f7af835"
      },
      "source": [
        "X_fake.shape"
      ],
      "execution_count": null,
      "outputs": [
        {
          "output_type": "execute_result",
          "data": {
            "text/plain": [
              "(1, 600, 3)"
            ]
          },
          "metadata": {
            "tags": []
          },
          "execution_count": 37
        }
      ]
    },
    {
      "cell_type": "code",
      "metadata": {
        "id": "7ociF6WcfF0W"
      },
      "source": [
        "X_fake = X_fake.reshape(30,20,3)"
      ],
      "execution_count": null,
      "outputs": []
    },
    {
      "cell_type": "code",
      "metadata": {
        "id": "_h54NgFLfPiJ"
      },
      "source": [
        "data = []\n",
        "for x in X_fake:\n",
        "  row = []\n",
        "  for y in x:\n",
        "    for z in y:\n",
        "      row.append(z)\n",
        "  data.append(row)"
      ],
      "execution_count": null,
      "outputs": []
    },
    {
      "cell_type": "code",
      "metadata": {
        "id": "JnU8GxmOfYfY"
      },
      "source": [
        "with open('/content/drive/My Drive/Colab Notebooks/Datasets/MHAD_df30fps.pickle', 'rb') as raaa:\n",
        "  mhad_df = pickle.load(raaa)"
      ],
      "execution_count": null,
      "outputs": []
    },
    {
      "cell_type": "code",
      "metadata": {
        "id": "h8LeX5jWfRgU"
      },
      "source": [
        "headers = np.array(mhad_df.columns)[:-2]"
      ],
      "execution_count": null,
      "outputs": []
    },
    {
      "cell_type": "code",
      "metadata": {
        "id": "s1B8w7qHfiuS"
      },
      "source": [
        "new_df = pd.DataFrame(data = data, columns = headers)"
      ],
      "execution_count": null,
      "outputs": []
    },
    {
      "cell_type": "code",
      "metadata": {
        "id": "wXQdDKcGfUcD"
      },
      "source": [
        "with open('/content/drive/My Drive/Colab Notebooks/Datasets/mhad_time.pickle', 'rb') as data:\n",
        "    time = pickle.load(data)"
      ],
      "execution_count": null,
      "outputs": []
    },
    {
      "cell_type": "code",
      "metadata": {
        "id": "b9clci-NgEKG"
      },
      "source": [
        "with open('/content/drive/My Drive/Colab Notebooks/Datasets/MHAD_scaler.pickle', 'rb') as data:\n",
        "    mhad_scaler = pickle.load(data)"
      ],
      "execution_count": null,
      "outputs": []
    },
    {
      "cell_type": "code",
      "metadata": {
        "id": "0v2svR7zf7aT"
      },
      "source": [
        "time_col = []\n",
        "for x in range(30):\n",
        "  time_col.append(time.iloc[x])\n",
        "\n",
        "new_df['Time'] = time_col\n",
        "\n",
        "new_X = mhad_scaler.inverse_transform(new_df)\n",
        "\n",
        "new_h = headers.copy()\n",
        "new_h = np.append(new_h, 'Time')\n",
        "\n",
        "out_df = pd.DataFrame(data = new_X, columns = new_h)"
      ],
      "execution_count": null,
      "outputs": []
    },
    {
      "cell_type": "code",
      "metadata": {
        "id": "az0WTjmVgBRY"
      },
      "source": [
        "def label30(label):\n",
        "  out = []\n",
        "  for x in range(30):\n",
        "    out.append(label)\n",
        "  return out"
      ],
      "execution_count": null,
      "outputs": []
    },
    {
      "cell_type": "code",
      "metadata": {
        "id": "13tFp8BmgIwP"
      },
      "source": [
        "out_df['Label'] = label30(y_fake)"
      ],
      "execution_count": null,
      "outputs": []
    },
    {
      "cell_type": "markdown",
      "metadata": {
        "id": "GhGrCq5Ts9b4"
      },
      "source": [
        "# Plot result to graph"
      ]
    },
    {
      "cell_type": "code",
      "metadata": {
        "id": "7UZQE8vqgOFw",
        "colab": {
          "base_uri": "https://localhost:8080/"
        },
        "outputId": "78a62aab-7a1d-4590-cba2-f876163fef49"
      },
      "source": [
        "# Find the max and min of x, y, z for plotting graph\n",
        "\n",
        "rows, cols = out_df.shape\n",
        "size = 20\n",
        "ymax = -1\n",
        "ymin = 100\n",
        "xmax = -1\n",
        "xmin = 100\n",
        "zmax = -1\n",
        "zmin = 100\n",
        "\n",
        "for x in range(size):\n",
        "    n = 3*x+1\n",
        "    if (out_df.iloc[:, n].max() > xmax):\n",
        "        xmax = out_df.iloc[:, n].max()\n",
        "    if (out_df.iloc[:, n+1].max() > ymax):\n",
        "        ymax = out_df.iloc[:, n+1].max()\n",
        "    if (out_df.iloc[:, n+2].max() > zmax):\n",
        "        zmax = out_df.iloc[:, n+2].max()\n",
        "\n",
        "    if (out_df.iloc[:, n].min() < xmin):\n",
        "        xmin = out_df.iloc[:, n].min()\n",
        "    if (out_df.iloc[:, n+1].min() < ymin):\n",
        "        ymin = out_df.iloc[:, n+1].min()\n",
        "    if (out_df.iloc[:, n+2].min() < zmin):\n",
        "        zmin = out_df.iloc[:, n+2].min()\n",
        "\n",
        "xrange = abs(xmax - xmin)\n",
        "yrange = abs(ymax - ymin)\n",
        "zrange = abs(zmax - zmin)\n",
        "\n",
        "large_range = max(xrange, yrange, zrange)"
      ],
      "execution_count": null,
      "outputs": [
        {
          "output_type": "stream",
          "text": [
            "largerange: 176.6575832264392\n"
          ],
          "name": "stdout"
        }
      ]
    },
    {
      "cell_type": "code",
      "metadata": {
        "id": "hdUyxWkIgPu0"
      },
      "source": [
        "# All joints in order\n",
        "ntu_joints = ['Pelvis', 'Abs', 'Neck', 'Head', 'Left shoulder', 'Left elbow', 'Left forearm', 'Right shoulder',\n",
        " 'Right elbow', 'Right forearm', 'Left hip', 'Left knee', 'Left ankle', 'Left toes', 'Right hip',\n",
        " 'Right knee', 'Right ankle', 'Right toes', 'Left fingers', 'Right fingers']\n",
        "\n",
        "# Joints that start an edge\n",
        "start_nodes = [\"Pelvis\", \"Abs\", \"Neck\", \"Abs\", \"Left shoulder\", \"Left elbow\", \"Left forearm\", \"Abs\", \"Right shoulder\", \"Right elbow\", \"Right forearm\",\n",
        "               \"Pelvis\", \"Left hip\", \"Left knee\", \"Left ankle\", \"Pelvis\", \"Right hip\", \"Right knee\", \"Right ankle\"]\n",
        "\n",
        "# Joints that end an edge\n",
        "end_nodes = [\"Abs\", \"Neck\", \"Head\", \"Left shoulder\", \"Left elbow\", \"Left forearm\", \"Left fingers\", \"Right shoulder\", \"Right elbow\", \"Right forearm\",\n",
        "             \"Right fingers\", \"Left hip\", \"Left knee\", \"Left ankle\", \"Left toes\", \"Right hip\", \"Right knee\", \"Right ankle\", \"Right toes\"]\n",
        "\n",
        "# Pairs between joints\n",
        "pairs = []\n",
        "for x in range(len(start_nodes)):\n",
        "  pairs.append((start_nodes[x], end_nodes[x]))"
      ],
      "execution_count": null,
      "outputs": []
    },
    {
      "cell_type": "code",
      "metadata": {
        "id": "Ld5kKzZjgWIu"
      },
      "source": [
        "from mpl_toolkits.mplot3d import Axes3D\n",
        "import matplotlib.animation as animation"
      ],
      "execution_count": null,
      "outputs": []
    },
    {
      "cell_type": "code",
      "metadata": {
        "id": "SgHAw73qgQ9d",
        "colab": {
          "base_uri": "https://localhost:8080/",
          "height": 571
        },
        "outputId": "9be335e7-0d11-4950-dec9-91a3dcb6d22f"
      },
      "source": [
        "#plot output as animated 3d graph\n",
        "\n",
        "fig = plt.figure()\n",
        "ax = plt.axes(projection='3d')\n",
        "\n",
        "def clear_axes():\n",
        "  ax.clear()\n",
        "  ax.set_xlim(xmin, xmin+large_range)\n",
        "  ax.set_ylim(zmin, zmin+large_range)\n",
        "  ax.set_zlim(ymin, ymin+large_range)\n",
        "\n",
        "def plot_frame(f):\n",
        "  clear_axes()\n",
        "  \n",
        "  for x in ntu_joints:\n",
        "    datax = out_df[x+\".X\"][f]\n",
        "    datay = out_df[x+\".Z\"][f]\n",
        "    dataz = out_df[x+\".Y\"][f]\n",
        "    ax.scatter3D(datax, datay, dataz)\n",
        "    ax.text(datax, datay, dataz, x, fontsize=6)\n",
        "  \n",
        "  for fst, sec in pairs:\n",
        "    fx = out_df[fst + \".X\"][f]\n",
        "    fy = out_df[fst + \".Z\"][f]\n",
        "    fz = out_df[fst + \".Y\"][f]\n",
        "\n",
        "    sx = out_df[sec + \".X\"][f]\n",
        "    sy = out_df[sec + \".Z\"][f]\n",
        "    sz = out_df[sec + \".Y\"][f]\n",
        "\n",
        "    ax.plot([fx, sx], [fy, sy], [fz, sz])\n",
        "    \n",
        "\n",
        "ani = animation.FuncAnimation(fig, plot_frame, frames=30, interval=100, blit=False)\n",
        "ani.save('/content/drive/My Drive/Colab Notebooks/Model outputs/GCN'  + str(actions[gen_label]) + '.gif', writer='pillow')"
      ],
      "execution_count": null,
      "outputs": [
        {
          "output_type": "error",
          "ename": "FileNotFoundError",
          "evalue": "ignored",
          "traceback": [
            "\u001b[0;31m---------------------------------------------------------------------------\u001b[0m",
            "\u001b[0;31mFileNotFoundError\u001b[0m                         Traceback (most recent call last)",
            "\u001b[0;32m<ipython-input-51-e1920088ff95>\u001b[0m in \u001b[0;36m<module>\u001b[0;34m()\u001b[0m\n\u001b[1;32m     31\u001b[0m \u001b[0;34m\u001b[0m\u001b[0m\n\u001b[1;32m     32\u001b[0m \u001b[0mani\u001b[0m \u001b[0;34m=\u001b[0m \u001b[0manimation\u001b[0m\u001b[0;34m.\u001b[0m\u001b[0mFuncAnimation\u001b[0m\u001b[0;34m(\u001b[0m\u001b[0mfig\u001b[0m\u001b[0;34m,\u001b[0m \u001b[0mplot_frame\u001b[0m\u001b[0;34m,\u001b[0m \u001b[0mframes\u001b[0m\u001b[0;34m=\u001b[0m\u001b[0;36m30\u001b[0m\u001b[0;34m,\u001b[0m \u001b[0minterval\u001b[0m\u001b[0;34m=\u001b[0m\u001b[0;36m100\u001b[0m\u001b[0;34m,\u001b[0m \u001b[0mblit\u001b[0m\u001b[0;34m=\u001b[0m\u001b[0;32mFalse\u001b[0m\u001b[0;34m)\u001b[0m\u001b[0;34m\u001b[0m\u001b[0;34m\u001b[0m\u001b[0m\n\u001b[0;32m---> 33\u001b[0;31m \u001b[0mani\u001b[0m\u001b[0;34m.\u001b[0m\u001b[0msave\u001b[0m\u001b[0;34m(\u001b[0m\u001b[0;34m'/content/drive/My Drive/Colab Notebooks/Test generations/GCN'\u001b[0m  \u001b[0;34m+\u001b[0m \u001b[0mstr\u001b[0m\u001b[0;34m(\u001b[0m\u001b[0mactions\u001b[0m\u001b[0;34m[\u001b[0m\u001b[0mgen_label\u001b[0m\u001b[0;34m]\u001b[0m\u001b[0;34m)\u001b[0m \u001b[0;34m+\u001b[0m \u001b[0;34m'.gif'\u001b[0m\u001b[0;34m,\u001b[0m \u001b[0mwriter\u001b[0m\u001b[0;34m=\u001b[0m\u001b[0;34m'pillow'\u001b[0m\u001b[0;34m)\u001b[0m\u001b[0;34m\u001b[0m\u001b[0;34m\u001b[0m\u001b[0m\n\u001b[0m",
            "\u001b[0;32m/usr/local/lib/python3.7/dist-packages/matplotlib/animation.py\u001b[0m in \u001b[0;36msave\u001b[0;34m(self, filename, writer, fps, dpi, codec, bitrate, extra_args, metadata, extra_anim, savefig_kwargs, progress_callback)\u001b[0m\n\u001b[1;32m   1150\u001b[0m                             \u001b[0mprogress_callback\u001b[0m\u001b[0;34m(\u001b[0m\u001b[0mframe_number\u001b[0m\u001b[0;34m,\u001b[0m \u001b[0mtotal_frames\u001b[0m\u001b[0;34m)\u001b[0m\u001b[0;34m\u001b[0m\u001b[0;34m\u001b[0m\u001b[0m\n\u001b[1;32m   1151\u001b[0m                             \u001b[0mframe_number\u001b[0m \u001b[0;34m+=\u001b[0m \u001b[0;36m1\u001b[0m\u001b[0;34m\u001b[0m\u001b[0;34m\u001b[0m\u001b[0m\n\u001b[0;32m-> 1152\u001b[0;31m                     \u001b[0mwriter\u001b[0m\u001b[0;34m.\u001b[0m\u001b[0mgrab_frame\u001b[0m\u001b[0;34m(\u001b[0m\u001b[0;34m**\u001b[0m\u001b[0msavefig_kwargs\u001b[0m\u001b[0;34m)\u001b[0m\u001b[0;34m\u001b[0m\u001b[0;34m\u001b[0m\u001b[0m\n\u001b[0m\u001b[1;32m   1153\u001b[0m \u001b[0;34m\u001b[0m\u001b[0m\n\u001b[1;32m   1154\u001b[0m         \u001b[0;31m# Reconnect signal for first draw if necessary\u001b[0m\u001b[0;34m\u001b[0m\u001b[0;34m\u001b[0m\u001b[0;34m\u001b[0m\u001b[0m\n",
            "\u001b[0;32m/usr/lib/python3.7/contextlib.py\u001b[0m in \u001b[0;36m__exit__\u001b[0;34m(self, type, value, traceback)\u001b[0m\n\u001b[1;32m    117\u001b[0m         \u001b[0;32mif\u001b[0m \u001b[0mtype\u001b[0m \u001b[0;32mis\u001b[0m \u001b[0;32mNone\u001b[0m\u001b[0;34m:\u001b[0m\u001b[0;34m\u001b[0m\u001b[0;34m\u001b[0m\u001b[0m\n\u001b[1;32m    118\u001b[0m             \u001b[0;32mtry\u001b[0m\u001b[0;34m:\u001b[0m\u001b[0;34m\u001b[0m\u001b[0;34m\u001b[0m\u001b[0m\n\u001b[0;32m--> 119\u001b[0;31m                 \u001b[0mnext\u001b[0m\u001b[0;34m(\u001b[0m\u001b[0mself\u001b[0m\u001b[0;34m.\u001b[0m\u001b[0mgen\u001b[0m\u001b[0;34m)\u001b[0m\u001b[0;34m\u001b[0m\u001b[0;34m\u001b[0m\u001b[0m\n\u001b[0m\u001b[1;32m    120\u001b[0m             \u001b[0;32mexcept\u001b[0m \u001b[0mStopIteration\u001b[0m\u001b[0;34m:\u001b[0m\u001b[0;34m\u001b[0m\u001b[0;34m\u001b[0m\u001b[0m\n\u001b[1;32m    121\u001b[0m                 \u001b[0;32mreturn\u001b[0m \u001b[0;32mFalse\u001b[0m\u001b[0;34m\u001b[0m\u001b[0;34m\u001b[0m\u001b[0m\n",
            "\u001b[0;32m/usr/local/lib/python3.7/dist-packages/matplotlib/animation.py\u001b[0m in \u001b[0;36msaving\u001b[0;34m(self, fig, outfile, dpi, *args, **kwargs)\u001b[0m\n\u001b[1;32m    230\u001b[0m             \u001b[0;32myield\u001b[0m \u001b[0mself\u001b[0m\u001b[0;34m\u001b[0m\u001b[0;34m\u001b[0m\u001b[0m\n\u001b[1;32m    231\u001b[0m         \u001b[0;32mfinally\u001b[0m\u001b[0;34m:\u001b[0m\u001b[0;34m\u001b[0m\u001b[0;34m\u001b[0m\u001b[0m\n\u001b[0;32m--> 232\u001b[0;31m             \u001b[0mself\u001b[0m\u001b[0;34m.\u001b[0m\u001b[0mfinish\u001b[0m\u001b[0;34m(\u001b[0m\u001b[0;34m)\u001b[0m\u001b[0;34m\u001b[0m\u001b[0;34m\u001b[0m\u001b[0m\n\u001b[0m\u001b[1;32m    233\u001b[0m \u001b[0;34m\u001b[0m\u001b[0m\n\u001b[1;32m    234\u001b[0m \u001b[0;34m\u001b[0m\u001b[0m\n",
            "\u001b[0;32m/usr/local/lib/python3.7/dist-packages/matplotlib/animation.py\u001b[0m in \u001b[0;36mfinish\u001b[0;34m(self)\u001b[0m\n\u001b[1;32m    574\u001b[0m         self._frames[0].save(\n\u001b[1;32m    575\u001b[0m             \u001b[0mself\u001b[0m\u001b[0;34m.\u001b[0m\u001b[0m_outfile\u001b[0m\u001b[0;34m,\u001b[0m \u001b[0msave_all\u001b[0m\u001b[0;34m=\u001b[0m\u001b[0;32mTrue\u001b[0m\u001b[0;34m,\u001b[0m \u001b[0mappend_images\u001b[0m\u001b[0;34m=\u001b[0m\u001b[0mself\u001b[0m\u001b[0;34m.\u001b[0m\u001b[0m_frames\u001b[0m\u001b[0;34m[\u001b[0m\u001b[0;36m1\u001b[0m\u001b[0;34m:\u001b[0m\u001b[0;34m]\u001b[0m\u001b[0;34m,\u001b[0m\u001b[0;34m\u001b[0m\u001b[0;34m\u001b[0m\u001b[0m\n\u001b[0;32m--> 576\u001b[0;31m             duration=int(1000 / self.fps), loop=0)\n\u001b[0m\u001b[1;32m    577\u001b[0m \u001b[0;34m\u001b[0m\u001b[0m\n\u001b[1;32m    578\u001b[0m \u001b[0;34m\u001b[0m\u001b[0m\n",
            "\u001b[0;32m/usr/local/lib/python3.7/dist-packages/PIL/Image.py\u001b[0m in \u001b[0;36msave\u001b[0;34m(self, fp, format, **params)\u001b[0m\n\u001b[1;32m   2129\u001b[0m                 \u001b[0mfp\u001b[0m \u001b[0;34m=\u001b[0m \u001b[0mbuiltins\u001b[0m\u001b[0;34m.\u001b[0m\u001b[0mopen\u001b[0m\u001b[0;34m(\u001b[0m\u001b[0mfilename\u001b[0m\u001b[0;34m,\u001b[0m \u001b[0;34m\"r+b\"\u001b[0m\u001b[0;34m)\u001b[0m\u001b[0;34m\u001b[0m\u001b[0;34m\u001b[0m\u001b[0m\n\u001b[1;32m   2130\u001b[0m             \u001b[0;32melse\u001b[0m\u001b[0;34m:\u001b[0m\u001b[0;34m\u001b[0m\u001b[0;34m\u001b[0m\u001b[0m\n\u001b[0;32m-> 2131\u001b[0;31m                 \u001b[0mfp\u001b[0m \u001b[0;34m=\u001b[0m \u001b[0mbuiltins\u001b[0m\u001b[0;34m.\u001b[0m\u001b[0mopen\u001b[0m\u001b[0;34m(\u001b[0m\u001b[0mfilename\u001b[0m\u001b[0;34m,\u001b[0m \u001b[0;34m\"w+b\"\u001b[0m\u001b[0;34m)\u001b[0m\u001b[0;34m\u001b[0m\u001b[0;34m\u001b[0m\u001b[0m\n\u001b[0m\u001b[1;32m   2132\u001b[0m \u001b[0;34m\u001b[0m\u001b[0m\n\u001b[1;32m   2133\u001b[0m         \u001b[0;32mtry\u001b[0m\u001b[0;34m:\u001b[0m\u001b[0;34m\u001b[0m\u001b[0;34m\u001b[0m\u001b[0m\n",
            "\u001b[0;31mFileNotFoundError\u001b[0m: [Errno 2] No such file or directory: '/content/drive/My Drive/Colab Notebooks/Test generations/GCNClapping_hands.gif'"
          ]
        },
        {
          "output_type": "display_data",
          "data": {
            "image/png": "[encoded data removed]",
            "text/plain": [
              "<Figure size 432x288 with 1 Axes>"
            ]
          },
          "metadata": {
            "tags": [],
            "needs_background": "light"
          }
        }
      ]
    },
    {
      "cell_type": "code",
      "metadata": {
        "id": "LVCOhSgHUlwy"
      },
      "source": [
        "# Plot animation as 5 frames next to eachother\n",
        "\n",
        "fig2 = plt.figure(figsize=(25, 5))\n",
        "axis1 = fig2.add_subplot(151, projection='3d')\n",
        "\n",
        "axis2 = fig2.add_subplot(152, projection='3d')\n",
        "axis3 = fig2.add_subplot(153, projection='3d')\n",
        "axis4 = fig2.add_subplot(154, projection='3d')\n",
        "axis5 = fig2.add_subplot(155, projection='3d')\n",
        "\n",
        "def set_lims(ax):\n",
        "  ax.set_xlim(xmin, xmin+large_range)\n",
        "  ax.set_ylim(zmin, zmin+large_range)\n",
        "  ax.set_zlim(ymin, ymin+large_range)\n",
        "\n",
        "def plot_pics(f, axis):\n",
        "  \n",
        "  for x in ntu_joints:\n",
        "    datax = out_df[x+\".X\"][f]\n",
        "    datay = out_df[x+\".Z\"][f]\n",
        "    dataz = out_df[x+\".Y\"][f]\n",
        "    axis.scatter3D(datax, datay, dataz)\n",
        "    axis.text(datax, datay, dataz, x, fontsize=6)\n",
        "  \n",
        "  for fst, sec in pairs:\n",
        "    fx = out_df[fst + \".X\"][f]\n",
        "    fy = out_df[fst + \".Z\"][f]\n",
        "    fz = out_df[fst + \".Y\"][f]\n",
        "\n",
        "    sx = out_df[sec + \".X\"][f]\n",
        "    sy = out_df[sec + \".Z\"][f]\n",
        "    sz = out_df[sec + \".Y\"][f]\n",
        "\n",
        "    axis.plot([fx, sx], [fy, sy], [fz, sz])\n",
        "\n",
        "frames = [0, 5, 11, 17, 23, 29]\n",
        "axis = [axis1, axis2, axis3, axis4, axis5]\n",
        "for x in range(5):\n",
        "  plot_pics(frames[x], axis[x])\n",
        "\n",
        "#fig2.savefig('/content/drive/My Drive/Colab Notebooks/Model outputs/GCN'  + str(actions[gen_label]) + 'FRAMES.png')"
      ],
      "execution_count": null,
      "outputs": []
    }
  ]
}